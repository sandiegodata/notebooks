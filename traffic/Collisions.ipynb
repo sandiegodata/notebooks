{
 "metadata": {
  "name": "",
  "signature": "sha256:84fd9a0ee4156879dc97974ff8effa78e065132eaf48e50960d27aee13260d70"
 },
 "nbformat": 3,
 "nbformat_minor": 0,
 "worksheets": [
  {
   "cells": [
    {
     "cell_type": "heading",
     "level": 1,
     "metadata": {},
     "source": [
      "Hit and Run Collision Analysis"
     ]
    },
    {
     "cell_type": "markdown",
     "metadata": {},
     "source": [
      "\n",
      "\n",
      "* [Presentation on hit and run statistics](http://its.ucla.edu/uctc-2013/PDF%20Versions/BCD/Alam.pdf)\n",
      "\n",
      "\n",
      "*Analyst Notes*. \n",
      "\n",
      "* A lot of the codes are digits, but they aren't numbers, they are strings. Be sure to use quotes, or your filters will get no matches. \n"
     ]
    },
    {
     "cell_type": "code",
     "collapsed": false,
     "input": [
      "%matplotlib inline\n",
      "import ambry\n",
      "import pandas as pd\n",
      "l = ambry.ilibrary()\n",
      "b = l.get('chp.ca.gov-switrs-orig-0.1.3')\n",
      "p = l.get('chp.ca.gov-switrs-orig-collisions').partition\n",
      "q = \"\"\"\n",
      "SELECT *,\n",
      "strftime('%m',collision_date) AS month, strftime('%Y',collision_date) AS year,  strftime('%w',collision_date) AS dow, \n",
      "strftime('%W',collision_date) AS week\n",
      "FROM collisions\n",
      "WHERE juris BETWEEN 3700 AND 3800 \n",
      "\"\"\"\n",
      "\n",
      "df = p.select(q).pandas\n"
     ],
     "language": "python",
     "metadata": {},
     "outputs": [],
     "prompt_number": 13
    },
    {
     "cell_type": "markdown",
     "metadata": {},
     "source": [
      "## Number of Hit and Runs\n",
      "\n",
      "The data set has 151K collision records from 2001 to 2012. Of that set, 28K were hit and runs, and 4K were fellony hit and runs. \n"
     ]
    },
    {
     "cell_type": "code",
     "collapsed": false,
     "input": [
      "print 'Total Collisions', df['id'].count()\n",
      "print 'Years from ', min(df['year']), 'to', max(df['year'])\n",
      "print 'Hit and runs', df[df['hit_and_run'] != 'N']['id'].count()\n",
      "df.groupby('hit_and_run').case_id.nunique().reset_index()"
     ],
     "language": "python",
     "metadata": {},
     "outputs": [
      {
       "output_type": "stream",
       "stream": "stdout",
       "text": [
        "Total Collisions 150607\n",
        "Years from  2001 to 2012\n",
        "Hit and runs "
       ]
      },
      {
       "output_type": "stream",
       "stream": "stdout",
       "text": [
        "27724\n"
       ]
      },
      {
       "html": [
        "<div style=\"max-height:1000px;max-width:1500px;overflow:auto;\">\n",
        "<table border=\"1\" class=\"dataframe\">\n",
        "  <thead>\n",
        "    <tr style=\"text-align: right;\">\n",
        "      <th></th>\n",
        "      <th>hit_and_run</th>\n",
        "      <th>0</th>\n",
        "    </tr>\n",
        "  </thead>\n",
        "  <tbody>\n",
        "    <tr>\n",
        "      <th>0</th>\n",
        "      <td> F</td>\n",
        "      <td>   4026</td>\n",
        "    </tr>\n",
        "    <tr>\n",
        "      <th>1</th>\n",
        "      <td> M</td>\n",
        "      <td>  23698</td>\n",
        "    </tr>\n",
        "    <tr>\n",
        "      <th>2</th>\n",
        "      <td> N</td>\n",
        "      <td> 122883</td>\n",
        "    </tr>\n",
        "  </tbody>\n",
        "</table>\n",
        "<p>3 rows \u00d7 2 columns</p>\n",
        "</div>"
       ],
       "metadata": {},
       "output_type": "pyout",
       "prompt_number": 7,
       "text": [
        "  hit_and_run       0\n",
        "0           F    4026\n",
        "1           M   23698\n",
        "2           N  122883\n",
        "\n",
        "[3 rows x 2 columns]"
       ]
      }
     ],
     "prompt_number": 7
    },
    {
     "cell_type": "heading",
     "level": 1,
     "metadata": {},
     "source": [
      "Hit and Runs Felonies by Violation Category"
     ]
    },
    {
     "cell_type": "markdown",
     "metadata": {},
     "source": [
      "Here are the PCF Violation Categories\n",
      "\n",
      "* 01 - Driving or Bicycling Under the Influence  of Alcohol or Drug \n",
      "* 02 - Impeding Traffic \n",
      "* 03 - Unsafe Speed \n",
      "* 04 - Following Too Closely \n",
      "* 05 - Wrong Side of Road \n",
      "* 06 - Improper Passing \n",
      "* 07 - Unsafe Lane Change \n",
      "* 08 - Improper Turning \n",
      "* 09 - Automobile Right of Way 6 \n",
      "* 10 - Pedestrian Right of Way \n",
      "* 11 - Pedestrian Violation \n",
      "* 12 - Traffic Signals and Signs \n",
      "* 13 - Hazardous Parking \n",
      "* 14 - Lights \n",
      "* 15 - Brakes \n",
      "* 16 - Other Equipment \n",
      "* 17 - Other Hazardous Violation \n",
      "* 18 - Other Than Driver (or Pedestrian) \n",
      "* 19 - \n",
      "* 20 - \n",
      "* 21 - Unsafe Starting or Backing \n",
      "* 22 - Other Improper Driving \n",
      "* 23 - Pedestrian or \"Other\" Under the  Influence of Alcohol or Drug \n",
      "* 24 - Fell Asleep\n",
      "\n",
      "* 00 - Unknown \n",
      "* - - Not Stated \n",
      "\n",
      "\n",
      "Categories with the highest number of Fatalities:\n",
      "\n",
      "* 03 - Unsafe Speed \n",
      "* 01 - Driving or Bicycling Under the Influence  of Alcohol or Drug \n",
      "* 09 - Automobile Right of Way\n",
      "* 12 - Traffic Signals and Signs\n",
      "* 08 - Improper Turning\n",
      "\n",
      "I'm not sure what the categories mean exactly, but it looks like a lot of them are the fault of the pedestrian. \n",
      "\n"
     ]
    },
    {
     "cell_type": "code",
     "collapsed": false,
     "input": [
      "# Group by category and HNR type, then count the number of unique incidents in each group. \n",
      "# reset_index removes the multi-index, making the output a normal data frame. The, assign\n",
      "# the colum name for the count column created by nunique\n",
      "hnr_viol = df.groupby(['pcf_viol_category', 'hit_and_run']).case_id.count().reset_index()\n",
      "hnr_viol.columns = list(hnr_viol.columns)[:-1]+['count']\n",
      "# Pivoting turns the values  in the hit_and_run  into columns, with the associated count as the value for the cell\n",
      "hnr_viol_pivoted = hnr_viol.pivot(index='pcf_viol_category', columns='hit_and_run', values='count')\n",
      "\n",
      "hnr_viol_pivoted = hnr_viol_pivoted.fillna(0) # Turn NaN into 0\n",
      "hnr_viol_pivoted.sort(('F','M'), ascending=(0,0), inplace=True)\n",
      "\n",
      "hnr_viol_pivoted.plot(kind='bar', figsize=(15,10))"
     ],
     "language": "python",
     "metadata": {},
     "outputs": [
      {
       "metadata": {},
       "output_type": "pyout",
       "prompt_number": 8,
       "text": [
        "<matplotlib.axes.AxesSubplot at 0x108cf97d0>"
       ]
      },
      {
       "metadata": {},
       "output_type": "display_data",
       "png": "[encoded data removed]",
       "text": [
        "<matplotlib.figure.Figure at 0x108ceddd0>"
       ]
      }
     ],
     "prompt_number": 8
    },
    {
     "cell_type": "heading",
     "level": 1,
     "metadata": {},
     "source": [
      "Violations Normalized"
     ]
    },
    {
     "cell_type": "markdown",
     "metadata": {},
     "source": [
      "Same data, but with each category normalized to 1 to show the categories with the highest percentage of felonies.\n",
      "\n",
      "Grouping the level of hit and run, where 'F' is a felony and 'M' is a misdemeanor, shows that the most categories with felony hit and runs are: \n",
      "\n",
      "* 23 - Pedestrian or \"Other\" Under the  Influence of Alcohol or Drug \n",
      "* 10 - Pedestrian Right of Way \n",
      "* 02 - Impeding Traffic \n",
      "* 00 - Unknown \n",
      "* 01 - Driving or Bicycling Under the Influence  of Alcohol or Drug "
     ]
    },
    {
     "cell_type": "code",
     "collapsed": false,
     "input": [
      "\n",
      "# Normalize by row, so the values for each row sum to 1. ( Making them percentages )\n",
      "hnr_viol_norm = (hnr_viol_pivoted.T / hnr_viol_pivoted.T.sum()).T # Normalize by row\n",
      "\n",
      "hnr_viol_norm.sort(('F','M'), ascending=(0,0), inplace=True)\n",
      "\n",
      "hnr_viol_norm.plot(kind='bar', figsize=(15,10))"
     ],
     "language": "python",
     "metadata": {},
     "outputs": [
      {
       "metadata": {},
       "output_type": "pyout",
       "prompt_number": 9,
       "text": [
        "<matplotlib.axes.AxesSubplot at 0x108d17f10>"
       ]
      },
      {
       "metadata": {},
       "output_type": "display_data",
       "png": "[encoded data removed]",
       "text": [
        "<matplotlib.figure.Figure at 0x108ce8ed0>"
       ]
      }
     ],
     "prompt_number": 9
    },
    {
     "cell_type": "heading",
     "level": 1,
     "metadata": {},
     "source": [
      "Hit and Run Severity"
     ]
    },
    {
     "cell_type": "markdown",
     "metadata": {},
     "source": [
      "The bar chart below shows the relative frequency of each category of severity. The severity codes are:\n",
      "\n",
      "* 1 - Fatal \n",
      "* 2 - Injury (Severe) \n",
      "* 3 - Injury (Other Visible) \n",
      "* 4 - Injury (Complaint of Pain) \n",
      "* 0 - PDO \n",
      "\n",
      "The table below is sorted by the number of 1 severities. The categories at the top are: \n",
      "\n",
      "* 11 - Pedestrian Violation \n",
      "* 08 - Improper Turning \n",
      "* 03 - Unsafe Speed \n",
      "* 01 - Driving or Bicycling Under the Influence  of Alcohol or Drug \n",
      "* 10 - Pedestrian Right of Way "
     ]
    },
    {
     "cell_type": "code",
     "collapsed": false,
     "input": [
      "sdf = df[df['hit_and_run'] != 'N']\n",
      "cat_sev = sdf.groupby(['pcf_viol_category', 'collision_severity']).case_id.count().reset_index()\n",
      "cat_sev.columns = list(cat_sev.columns)[:-1]+['count']\n",
      "\n",
      "# Pivoting turns the values  in the hit_and_run  into columns, with the associated count as the value for the cell\n",
      "cat_sev_pivoted = cat_sev.pivot(index='pcf_viol_category', columns='collision_severity', values='count').fillna(0)\n",
      "# Normalize by row, so the values for each row sum to 1. ( Making them percentages ) \n",
      "\n",
      "cat_sev_pivoted.sort(('1',), ascending=(0,), inplace=True)\n",
      "cat_sev_pivoted"
     ],
     "language": "python",
     "metadata": {},
     "outputs": [
      {
       "html": [
        "<div style=\"max-height:1000px;max-width:1500px;overflow:auto;\">\n",
        "<table border=\"1\" class=\"dataframe\">\n",
        "  <thead>\n",
        "    <tr style=\"text-align: right;\">\n",
        "      <th>collision_severity</th>\n",
        "      <th>0</th>\n",
        "      <th>1</th>\n",
        "      <th>2</th>\n",
        "      <th>3</th>\n",
        "      <th>4</th>\n",
        "    </tr>\n",
        "    <tr>\n",
        "      <th>pcf_viol_category</th>\n",
        "      <th></th>\n",
        "      <th></th>\n",
        "      <th></th>\n",
        "      <th></th>\n",
        "      <th></th>\n",
        "    </tr>\n",
        "  </thead>\n",
        "  <tbody>\n",
        "    <tr>\n",
        "      <th>11</th>\n",
        "      <td>   14</td>\n",
        "      <td> 24</td>\n",
        "      <td> 85</td>\n",
        "      <td> 134</td>\n",
        "      <td>   78</td>\n",
        "    </tr>\n",
        "    <tr>\n",
        "      <th>08</th>\n",
        "      <td> 4137</td>\n",
        "      <td> 12</td>\n",
        "      <td> 62</td>\n",
        "      <td> 526</td>\n",
        "      <td>  694</td>\n",
        "    </tr>\n",
        "    <tr>\n",
        "      <th>03</th>\n",
        "      <td> 3240</td>\n",
        "      <td> 11</td>\n",
        "      <td> 49</td>\n",
        "      <td> 376</td>\n",
        "      <td> 1830</td>\n",
        "    </tr>\n",
        "    <tr>\n",
        "      <th>01</th>\n",
        "      <td> 2201</td>\n",
        "      <td> 10</td>\n",
        "      <td> 62</td>\n",
        "      <td> 445</td>\n",
        "      <td>  499</td>\n",
        "    </tr>\n",
        "    <tr>\n",
        "      <th>10</th>\n",
        "      <td>   16</td>\n",
        "      <td>  9</td>\n",
        "      <td> 35</td>\n",
        "      <td> 197</td>\n",
        "      <td>  250</td>\n",
        "    </tr>\n",
        "    <tr>\n",
        "      <th>09</th>\n",
        "      <td>  978</td>\n",
        "      <td>  6</td>\n",
        "      <td> 42</td>\n",
        "      <td> 320</td>\n",
        "      <td>  661</td>\n",
        "    </tr>\n",
        "    <tr>\n",
        "      <th>00</th>\n",
        "      <td> 2872</td>\n",
        "      <td>  5</td>\n",
        "      <td> 29</td>\n",
        "      <td> 132</td>\n",
        "      <td>  345</td>\n",
        "    </tr>\n",
        "    <tr>\n",
        "      <th>12</th>\n",
        "      <td>  714</td>\n",
        "      <td>  3</td>\n",
        "      <td> 56</td>\n",
        "      <td> 254</td>\n",
        "      <td>  695</td>\n",
        "    </tr>\n",
        "    <tr>\n",
        "      <th>23</th>\n",
        "      <td>    0</td>\n",
        "      <td>  2</td>\n",
        "      <td>  2</td>\n",
        "      <td>   2</td>\n",
        "      <td>    1</td>\n",
        "    </tr>\n",
        "    <tr>\n",
        "      <th>18</th>\n",
        "      <td>   28</td>\n",
        "      <td>  2</td>\n",
        "      <td>  4</td>\n",
        "      <td>   8</td>\n",
        "      <td>    2</td>\n",
        "    </tr>\n",
        "    <tr>\n",
        "      <th>04</th>\n",
        "      <td>  324</td>\n",
        "      <td>  2</td>\n",
        "      <td>  1</td>\n",
        "      <td>  41</td>\n",
        "      <td>  359</td>\n",
        "    </tr>\n",
        "    <tr>\n",
        "      <th>17</th>\n",
        "      <td>   90</td>\n",
        "      <td>  1</td>\n",
        "      <td> 12</td>\n",
        "      <td>  31</td>\n",
        "      <td>   60</td>\n",
        "    </tr>\n",
        "    <tr>\n",
        "      <th>05</th>\n",
        "      <td>  592</td>\n",
        "      <td>  1</td>\n",
        "      <td> 13</td>\n",
        "      <td> 109</td>\n",
        "      <td>  136</td>\n",
        "    </tr>\n",
        "    <tr>\n",
        "      <th>21</th>\n",
        "      <td> 1268</td>\n",
        "      <td>  1</td>\n",
        "      <td>  5</td>\n",
        "      <td>  61</td>\n",
        "      <td>  169</td>\n",
        "    </tr>\n",
        "    <tr>\n",
        "      <th>02</th>\n",
        "      <td>    9</td>\n",
        "      <td>  1</td>\n",
        "      <td>  1</td>\n",
        "      <td>   3</td>\n",
        "      <td>    7</td>\n",
        "    </tr>\n",
        "    <tr>\n",
        "      <th>15</th>\n",
        "      <td>    3</td>\n",
        "      <td>  0</td>\n",
        "      <td>  0</td>\n",
        "      <td>   0</td>\n",
        "      <td>    0</td>\n",
        "    </tr>\n",
        "    <tr>\n",
        "      <th>14</th>\n",
        "      <td>    1</td>\n",
        "      <td>  0</td>\n",
        "      <td>  1</td>\n",
        "      <td>   0</td>\n",
        "      <td>    1</td>\n",
        "    </tr>\n",
        "    <tr>\n",
        "      <th>13</th>\n",
        "      <td>   39</td>\n",
        "      <td>  0</td>\n",
        "      <td>  0</td>\n",
        "      <td>   1</td>\n",
        "      <td>    1</td>\n",
        "    </tr>\n",
        "    <tr>\n",
        "      <th>16</th>\n",
        "      <td>    7</td>\n",
        "      <td>  0</td>\n",
        "      <td>  0</td>\n",
        "      <td>   0</td>\n",
        "      <td>    2</td>\n",
        "    </tr>\n",
        "    <tr>\n",
        "      <th>07</th>\n",
        "      <td>  449</td>\n",
        "      <td>  0</td>\n",
        "      <td>  8</td>\n",
        "      <td>  30</td>\n",
        "      <td>   40</td>\n",
        "    </tr>\n",
        "    <tr>\n",
        "      <th>06</th>\n",
        "      <td>  207</td>\n",
        "      <td>  0</td>\n",
        "      <td>  2</td>\n",
        "      <td>  19</td>\n",
        "      <td>   40</td>\n",
        "    </tr>\n",
        "    <tr>\n",
        "      <th>22</th>\n",
        "      <td>  218</td>\n",
        "      <td>  0</td>\n",
        "      <td>  2</td>\n",
        "      <td>  19</td>\n",
        "      <td>   23</td>\n",
        "    </tr>\n",
        "    <tr>\n",
        "      <th>24</th>\n",
        "      <td>   13</td>\n",
        "      <td>  0</td>\n",
        "      <td>  0</td>\n",
        "      <td>   2</td>\n",
        "      <td>    0</td>\n",
        "    </tr>\n",
        "  </tbody>\n",
        "</table>\n",
        "<p>23 rows \u00d7 5 columns</p>\n",
        "</div>"
       ],
       "metadata": {},
       "output_type": "pyout",
       "prompt_number": 10,
       "text": [
        "collision_severity     0   1   2    3     4\n",
        "pcf_viol_category                          \n",
        "11                    14  24  85  134    78\n",
        "08                  4137  12  62  526   694\n",
        "03                  3240  11  49  376  1830\n",
        "01                  2201  10  62  445   499\n",
        "10                    16   9  35  197   250\n",
        "09                   978   6  42  320   661\n",
        "00                  2872   5  29  132   345\n",
        "12                   714   3  56  254   695\n",
        "23                     0   2   2    2     1\n",
        "18                    28   2   4    8     2\n",
        "04                   324   2   1   41   359\n",
        "17                    90   1  12   31    60\n",
        "05                   592   1  13  109   136\n",
        "21                  1268   1   5   61   169\n",
        "02                     9   1   1    3     7\n",
        "15                     3   0   0    0     0\n",
        "14                     1   0   1    0     1\n",
        "13                    39   0   0    1     1\n",
        "16                     7   0   0    0     2\n",
        "07                   449   0   8   30    40\n",
        "06                   207   0   2   19    40\n",
        "22                   218   0   2   19    23\n",
        "24                    13   0   0    2     0\n",
        "\n",
        "[23 rows x 5 columns]"
       ]
      }
     ],
     "prompt_number": 10
    },
    {
     "cell_type": "heading",
     "level": 1,
     "metadata": {},
     "source": [
      "Normalized Severities"
     ]
    },
    {
     "cell_type": "markdown",
     "metadata": {},
     "source": [
      "*These are normalized values, not absolute. * That is, the sum of all of the severities in a category is 1. So, for category 23, the chart says that about 33% of the collisions are fatal, but it doesn't mean that that there are more category 23 fatalities than category 11. \n",
      "\n",
      "The top categories for fatalities are very similar to those in \"Hit and Runs by Violation Category\", including a lot of categories that reference pedestrians. \n",
      "\n",
      "* 23 - Pedestrian or \"Other\" Under the  Influence of Alcohol or Drug \n",
      "* 11 - Pedestrian Violation \n",
      "* 02 - Impeding Traffic \n",
      "* 18 - Other Than Driver (or Pedestrian) \n",
      "* 10 - Pedestrian Right of Way \n",
      "\n",
      "Oddly, the category with the highest relative frequency of severe injuries is 14, Lights. "
     ]
    },
    {
     "cell_type": "code",
     "collapsed": false,
     "input": [
      "cat_sev_norm = (cat_sev_pivoted.T / cat_sev_pivoted.T.sum()).T # Normalize by row\n",
      "# In the dataset, value with no entries have Nan. We'll make them 0. \n",
      "\n",
      "cat_sev_norm.sort(('1','2'), ascending=(0,0), inplace=True)\n",
      "cat_sev_norm.plot(kind='bar', figsize=(15,10))\n"
     ],
     "language": "python",
     "metadata": {},
     "outputs": [
      {
       "metadata": {},
       "output_type": "pyout",
       "prompt_number": 11,
       "text": [
        "<matplotlib.axes.AxesSubplot at 0x1098dc190>"
       ]
      },
      {
       "metadata": {},
       "output_type": "display_data",
       "png": "[encoded data removed]",
       "text": [
        "<matplotlib.figure.Figure at 0x10adc9e90>"
       ]
      }
     ],
     "prompt_number": 11
    },
    {
     "cell_type": "heading",
     "level": 1,
     "metadata": {},
     "source": [
      "Whose Fault?"
     ]
    },
    {
     "cell_type": "markdown",
     "metadata": {},
     "source": [
      "Here are the Statewide Vehicle Type at fault codes:\n",
      "\n",
      "* A - Passenger Car/Station Wagon \n",
      "* B - Passenger Car with Trailer \n",
      "* C - Motorcycle/Scooter \n",
      "* D - Pickup or Panel Truck \n",
      "* E - Pickup or Panel Truck with Trailer \n",
      "* F - Truck or Truck Tractor \n",
      "* G - Truck or Truck Tractor with Trailer \n",
      "* H - Schoolbus \n",
      "* I - Other Bus \n",
      "* J - Emergency Vehicle \n",
      "* K - Highway Construction Equipment \n",
      "* L - Bicycle \n",
      "* M - Other Vehicle \n",
      "* N - Pedestrian \n",
      "* O - Moped \n",
      "* - or blank - Not Stated\n",
      "\n",
      "Pedestrians are listed at fault about 10% of the time. "
     ]
    },
    {
     "cell_type": "code",
     "collapsed": false,
     "input": [
      "sdf = df[df['hit_and_run'] == 'M\n",
      "']\n",
      "fault = sdf.groupby(['stwd_vehtype_at_fault']).case_id.count().reset_index()\n",
      "fault.columns = list(fault.columns)[:-1]+['count']\n",
      "fault.sort('count', ascending=False)"
     ],
     "language": "python",
     "metadata": {},
     "outputs": [
      {
       "ename": "SyntaxError",
       "evalue": "EOL while scanning string literal (<ipython-input-12-b40eb31dcf73>, line 1)",
       "output_type": "pyerr",
       "traceback": [
        "\u001b[0;36m  File \u001b[0;32m\"<ipython-input-12-b40eb31dcf73>\"\u001b[0;36m, line \u001b[0;32m1\u001b[0m\n\u001b[0;31m    sdf = df[df['hit_and_run'] == 'M\u001b[0m\n\u001b[0m                                   ^\u001b[0m\n\u001b[0;31mSyntaxError\u001b[0m\u001b[0;31m:\u001b[0m EOL while scanning string literal\n"
       ]
      }
     ],
     "prompt_number": 12
    },
    {
     "cell_type": "heading",
     "level": 1,
     "metadata": {},
     "source": [
      "Trends\n"
     ]
    },
    {
     "cell_type": "markdown",
     "metadata": {},
     "source": []
    },
    {
     "cell_type": "code",
     "collapsed": false,
     "input": [
      "fault_trend = sdf.groupby(['stwd_vehtype_at_fault', 'year']).case_id.count().reset_index()\n",
      "fault_trend.columns = list(fault_trend.columns)[:-1]+['count']\n",
      "\n",
      "# Pivoting turns the values  in the hit_and_run  into columns, with the associated count as the value for the cell\n",
      "fault_trend_pivoted = fault_trend.pivot(columns='stwd_vehtype_at_fault', index='year', values='count').fillna(0)\n",
      "fault_trend_pivoted.plot(figsize=(15, 10))"
     ],
     "language": "python",
     "metadata": {},
     "outputs": []
    },
    {
     "cell_type": "code",
     "collapsed": false,
     "input": [
      "fault_trend = sdf.groupby(['year']).case_id.count().reset_index().plot()"
     ],
     "language": "python",
     "metadata": {},
     "outputs": []
    },
    {
     "cell_type": "code",
     "collapsed": false,
     "input": [],
     "language": "python",
     "metadata": {},
     "outputs": []
    }
   ],
   "metadata": {}
  }
 ]
}