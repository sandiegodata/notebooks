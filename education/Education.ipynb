{
 "cells": [
  {
   "cell_type": "code",
   "execution_count": 2,
   "metadata": {},
   "outputs": [
    {
     "data": {
      "text/html": [
       "<table><tr><td>S R</td><td>d00a001</td><td>cde.ca.gov-schools-combined-0.1.1</td></tr>\n",
       "<tr><td>S R</td><td>d00b002</td><td>cde.ca.gov-schools-orig-0.1.2</td></tr></table>"
      ],
      "text/plain": [
       "<ambry.identity.IdentitySet at 0x10742cf10>"
      ]
     },
     "execution_count": 2,
     "metadata": {},
     "output_type": "execute_result"
    }
   ],
   "source": [
    "import ambry\n",
    "import pandas as pd\n",
    "l = ambry.ilibrary()\n",
    "l.find(name='school')"
   ]
  },
  {
   "cell_type": "code",
   "execution_count": 6,
   "metadata": {},
   "outputs": [
    {
     "data": {
      "text/html": [
       "<table>\n",
       "<tr><th>Id</th><th>Name</th><th>table</th></tr>\n",
       "<tr><td>p00a001</td><td>cde.ca.gov-schools-combined-private_schools</td><td>private_schools</td></tr>\n",
       "<tr><td>p00a002</td><td>cde.ca.gov-schools-combined-public_schools</td><td>public_schools</td></tr>\n",
       "</table>"
      ],
      "text/plain": [
       "<ambry.partitions.Partitions at 0x1076f0150>"
      ]
     },
     "execution_count": 6,
     "metadata": {},
     "output_type": "execute_result"
    }
   ],
   "source": [
    "b =  l.get('cde.ca.gov-schools-combined')\n",
    "b.partitions"
   ]
  },
  {
   "cell_type": "code",
   "execution_count": 7,
   "metadata": {},
   "outputs": [],
   "source": [
    "p = l.get('cde.ca.gov-schools-combined-public_schools').partition"
   ]
  },
  {
   "cell_type": "code",
   "execution_count": 9,
   "metadata": {},
   "outputs": [
    {
     "data": {
      "text/html": [
       "\n",
       "        <table>\n",
       "        <tr><th>Name</th><td>public_schools</td></tr>\n",
       "        <tr><th>Id</th><td>t00a02</td></tr>\n",
       "        <tr><th>Vid</th><td>t00a02001</td></tr>\n",
       "        </table>\n",
       "        <table>\n",
       "<tr><th>#</th><th>Name</th><th>Datatype</th><th>description</th></tr>\n",
       "<tr><td>1</td><td>id</td><td>INTEGER</td><td></td></tr>\n",
       "<tr><td>2</td><td>cdscode</td><td>INTEGER</td><td>This 14-digit code is the official, unique identification of a school within California. The first two digits identify the county, the next five digits identify the school district, and the last seven digits identify the school. \n",
       "Please note that a CDS code ending in '0000000' indicates a district record not a school.</td></tr>\n",
       "<tr><td>3</td><td>ncesdist</td><td>INTEGER</td><td>This field represents the 7 digit National Center for Educational Statistics (NCES) school district identification number. The first 2 digits identify the state and the last 5 digits identify the school district. Combined, they make a unique 7 digit ID for each school district.</td></tr>\n",
       "<tr><td>4</td><td>ncesschool</td><td>INTEGER</td><td>This field represents the 5 digit NCES school identification number. The NCESSchool combined with the NCESDist form a unique 12 digit ID for each school.</td></tr>\n",
       "<tr><td>5</td><td>statustype</td><td>VARCHAR</td><td>This field identifies the status of the school or district. Definitions of the valid status types are listed below:\n",
       "\n",
       "Active: The district or school is in operation and providing instructional services.\n",
       "Closed: The district or school is not in operation and no longer providing instructional services. \n",
       "Merged: The district has combined with another district, and the schools within the merged district have closed and re-opened in the newly formed district. \n",
       "Pending: The district or school has not opened yet, but plans to open within the next 9-12 months.</td></tr>\n",
       "<tr><td>6</td><td>county</td><td>VARCHAR</td><td>County name.</td></tr>\n",
       "<tr><td>7</td><td>district</td><td>VARCHAR</td><td>District or Administrative Authority name.</td></tr>\n",
       "<tr><td>8</td><td>school</td><td>VARCHAR</td><td>School name.</td></tr>\n",
       "<tr><td>9</td><td>street</td><td>VARCHAR</td><td>The unabbreviated street (physical) address of this school, district, or administrative authority. Note: Some entities (primarily closed or retired schools) may not have data in this field.</td></tr>\n",
       "<tr><td>10</td><td>streetabr</td><td>VARCHAR</td><td>The abbreviated street address of the school, district, or administrative authoritys physical location. Note: Some records (primarily records of closed or retired schools) may not have data in this field.</td></tr>\n",
       "<tr><td>11</td><td>city</td><td>VARCHAR</td><td>The city where the school, district, or administrative authority is physically located. Note: Some records (primarily records of closed or retired schools) may not have data in this field.</td></tr>\n",
       "<tr><td>12</td><td>zip</td><td>VARCHAR</td><td>The zip code associated with the street address of the school, district, or administrative authoritys physical location. Note: Some records (primarily records of closed or retired schools) may not have data in this field.</td></tr>\n",
       "<tr><td>13</td><td>state</td><td>VARCHAR</td><td>The state in which the school, district, or administrative authority is located.</td></tr>\n",
       "<tr><td>14</td><td>mailstreet</td><td>VARCHAR</td><td>The unabbreviated mailing address of the school, district, or administrative authority (i.e., P.O. Box). Note: 1) Some entities (primarily closed or retired schools) may not have data in this field; 2) Many active entities have not provided a mailing street address. For your convenience we have filled the unpopulated MailStreet cells with Street data.</td></tr>\n",
       "<tr><td>15</td><td>mailstrabr</td><td>VARCHAR</td><td>The abbreviated mailing street address of the school, district, or administrative authority (i.e., P.O. Box).Note: Many active entities have not provided a mailing street address. For your convenience we have filled the unpopulated MailStrAbr cells with StreetAbr data.</td></tr>\n",
       "<tr><td>16</td><td>mailcity</td><td>VARCHAR</td><td>The city associated with the mailing address of the school, district, or administrative authority. Note: Many entities have not provided a mailing address city. For your convenience we have filled the unpopulated MailCity cells with City data.</td></tr>\n",
       "<tr><td>17</td><td>mailzip</td><td>VARCHAR</td><td>The zip code associated with the mailing address of the school, district, or administrative authority. Note: Many entities have not provided a mailing address zip code. For your convenience we have filled the unpopulated MailZip cells with Zip data.</td></tr>\n",
       "<tr><td>18</td><td>mailstate</td><td>VARCHAR</td><td>The state within the mailing address. For your convenience we have filled the unpopulated MailState cells with State data.</td></tr>\n",
       "<tr><td>19</td><td>phone</td><td>VARCHAR</td><td>The area code and phone number of the school, district, or administrative authority.</td></tr>\n",
       "<tr><td>20</td><td>ext</td><td>INTEGER</td><td>The phone number extension of the school, district, or administrative authority.</td></tr>\n",
       "<tr><td>21</td><td>website</td><td>VARCHAR</td><td>The website address of the school, district, or administrative authority.</td></tr>\n",
       "<tr><td>22</td><td>opendate</td><td>VARCHAR</td><td>The date the school opened. An empty cell indicates that the start date precedes July 1, 1980, the date the California Department of Education began to maintain this information.</td></tr>\n",
       "<tr><td>23</td><td>closeddate</td><td>VARCHAR</td><td>The date the school closed. An empty cell indicates that the entity is not closed.</td></tr>\n",
       "<tr><td>24</td><td>charter</td><td>VARCHAR</td><td>This field identifies charter schools. The field is coded as follows:\n",
       "\n",
       "Y= The school is a charter \n",
       "N = The school is not a charter school</td></tr>\n",
       "<tr><td>25</td><td>charternum</td><td>VARCHAR</td><td>The schools charter number.\n",
       "A four character value (any combination of numbers and letters) assigned to a charter school . A blank value indicates the school is not a charter school.\n",
       "Example: 0108</td></tr>\n",
       "<tr><td>26</td><td>fundingtype</td><td>VARCHAR</td><td>Indicates the charter schools funding type. Values are as follows:\n",
       "\n",
       "Not in CS funding model\n",
       "Locally funded\n",
       "Directly funded\n",
       "Blank</td></tr>\n",
       "<tr><td>27</td><td>doc</td><td>INTEGER</td><td>The District Ownership Code (DOC) is the numeric code used to identity the category of the Administrative Authority. \n",
       "\n",
       "00  County Office of Education \n",
       "02  State Board of Education \n",
       "03  Statewide Benefit Charter \n",
       "31  State Special Schools \n",
       "34  Non-school Location \n",
       "52  Elementary School District \n",
       "54  Unified School District \n",
       "56  High School District \n",
       "98  Regional Occupation Center/Program (ROC/P)</td></tr>\n",
       "<tr><td>28</td><td>doctype</td><td>VARCHAR</td><td>The District Ownership Code Type is the text description of the DOC category. (See text values in DOC field description above)</td></tr>\n",
       "<tr><td>29</td><td>soc</td><td>INTEGER</td><td>The School Ownership Code is a numeric code used to identify the type of school.\n",
       "\n",
       "08  Preschool\n",
       "09  Special Education Schools (Public)\n",
       "10  County Community\n",
       "11  Youth Authority Facilities (CEA) \n",
       "13  Opportunity Schools\n",
       "14  Juvenile Court Schools\n",
       "15  Other County or District Programs\n",
       "16  Home & Hospital\n",
       "17  Licensed Childcare (Group Home)++\n",
       "31  State Special Schools\n",
       "60  Elementary School (Public)\n",
       "61  Elementary School in 1 school School District (Public)\n",
       "62  Intermediate/Middle Schools (Public) \n",
       "63  Alternative Schools of Choice \n",
       "64  Junior High Schools (Public)\n",
       "65  K-12 Schools (Public\n",
       "66  High Schools (Public)\n",
       "67  High Schools In 1 School Dist. (Public)\n",
       "68  Continuation High Schools\n",
       "69  District Community Day Schools\n",
       "70  Adult Education Centers\n",
       "98  Regional Occupational Center/Program (ROC/P)</td></tr>\n",
       "<tr><td>30</td><td>soctype</td><td>VARCHAR</td><td>The School Ownership Code Type is the text description of the type of school.\n",
       "(See text values in SOC field description above)</td></tr>\n",
       "<tr><td>31</td><td>edopscode</td><td>VARCHAR</td><td>The Educational Option Code is a short text description of the type of education being offered.\n",
       "\n",
       "ALTSOC  Alternative School of Choice\n",
       "COMM  County Community School \n",
       "COMMDAY  Community Day School \n",
       "CON  Continuation School \n",
       "JUV  Juvenile Court School \n",
       "OPP  Opportunity School \n",
       "YTH  Youth Authority School \n",
       "SSS  State Special School \n",
       "SPEC  Special Education School \n",
       "TRAD  Traditional\n",
       "ROP  Regional Occupational Program \n",
       "HOMHOS  Home and Hospital\n",
       "NPS  Nonpublic Nonsectarian Certified School\n",
       "SPECON  District Consortia Special Education School \n",
       "SSSDIAG  State Special Schools Diagnostic Center \n",
       "LCI  Licensed Children's Institution</td></tr>\n",
       "<tr><td>32</td><td>edopsname</td><td>VARCHAR</td><td>The Educational Option Name is the long text description of the type of education being offered.\n",
       "(See text values in EdOPsCode field description above)</td></tr>\n",
       "<tr><td>33</td><td>eilcode</td><td>VARCHAR</td><td>The Educational Instruction Level Code is a short text description of the institutions type relative to the grade range offered.\n",
       "\n",
       "A  Adult\n",
       "ELEM  Elementary\n",
       "ELEMHIGH  Elementary-High Combination\n",
       "HS  High School \n",
       "INTMIDJR  Intermediate/Middle/Junior High\n",
       "PS  Preschool\n",
       "UG  Ungraded</td></tr>\n",
       "<tr><td>34</td><td>eilname</td><td>VARCHAR</td><td>The Educational Instruction Level Name is the long text description of the institutions type relative to the grade range offered.\n",
       "(See text values in EILCode field description above)</td></tr>\n",
       "<tr><td>35</td><td>gsoffered</td><td>VARCHAR</td><td>The grade span offered is the lowest grade and the highest grade offered or supported by the school, district, or administrative authority. This field might differ from the grade span served as reported in the most recent certified CBEDS data collection.\n",
       "For example XYZ School might display the following data: \n",
       "GSoffered = PAdult\n",
       "GSserved = K12</td></tr>\n",
       "<tr><td>36</td><td>gsserved</td><td>VARCHAR</td><td>This field represents the grade span served. It is the lowest grade and the highest grade of student enrollment as reported in the most recent certified CBEDS data collection. Only K-12 enrollment is reported through CBEDS. This field may differ from the grade span offered \n",
       "Note: Special programs at independent study, alternative education, and special education schools will often exceed the typical grade span for schools of that type (i.e., a high school might serve grades three through twelve). \n",
       "Example: K12</td></tr>\n",
       "<tr><td>37</td><td>latitude</td><td>REAL</td><td>The angular distance (expressed in degrees) between the location of the school, district, or administrative authority and the equator measured north to south.</td></tr>\n",
       "<tr><td>38</td><td>longitude</td><td>REAL</td><td>The angular distance (expressed in degrees) between the location of the school, district, or administrative authority and the prime meridian (Greenwich, England) measured from west to east.</td></tr>\n",
       "<tr><td>39</td><td>admfname1</td><td>VARCHAR</td><td>The superintendents or principals first name. Only active and pending districts and schools will display administrator information, if applicable.</td></tr>\n",
       "<tr><td>40</td><td>admlname1</td><td>VARCHAR</td><td>The superintendents or principals last name. Only active and pending districts and schools will display administrator information, if applicable.</td></tr>\n",
       "<tr><td>41</td><td>admemail1</td><td>VARCHAR</td><td>The superintendents or principals e-mail address. Only active and pending districts and schools will display administrator information, if applicable.</td></tr>\n",
       "<tr><td>42</td><td>admfname2</td><td>VARCHAR</td><td>The second principals first name (optional). Only active and pending school records will display principal information, if applicable.</td></tr>\n",
       "<tr><td>43</td><td>admlname2</td><td>VARCHAR</td><td>The second principals last name (optional). Only active and pending school records will display principal information, if applicable</td></tr>\n",
       "<tr><td>44</td><td>admemail2</td><td>VARCHAR</td><td>The second principals e-mail address (optional). Only active and pending school records will display principal information, if applicable.</td></tr>\n",
       "<tr><td>45</td><td>admfname3</td><td>VARCHAR</td><td>The third principals first name (optional). Only active and pending school records will display principal information, if applicable.</td></tr>\n",
       "<tr><td>46</td><td>admlname3</td><td>VARCHAR</td><td>The third principals last name (optional). Only active and pending school records will display principal information, if applicable</td></tr>\n",
       "<tr><td>47</td><td>admemail3</td><td>VARCHAR</td><td>The third principals e-mail address (optional). Only active and pending school records will display principal information, if applicable.</td></tr>\n",
       "<tr><td>48</td><td>lastupdate</td><td>VARCHAR</td><td>The date the record was last updated.</td></tr>\n",
       "</table>"
      ],
      "text/plain": [
       "<ambry.orm.Table at 0x10786edd0>"
      ]
     },
     "execution_count": 9,
     "metadata": {},
     "output_type": "execute_result"
    }
   ],
   "source": [
    "p.table"
   ]
  },
  {
   "cell_type": "code",
   "execution_count": 13,
   "metadata": {},
   "outputs": [],
   "source": [
    "df = p.select().pandas"
   ]
  },
  {
   "cell_type": "code",
   "execution_count": 26,
   "metadata": {},
   "outputs": [
    {
     "data": {
      "text/plain": [
       "0    -121.96595\n",
       "1    -122.24714\n",
       "2    -122.29515\n",
       "3      -1.00000\n",
       "4    -122.07141\n",
       "5    -122.28189\n",
       "6    -121.95456\n",
       "7    -119.80596\n",
       "8    -119.80596\n",
       "9    -120.77652\n",
       "10   -120.77652\n",
       "11     -1.00000\n",
       "12     -1.00000\n",
       "13     -1.00000\n",
       "14     -1.00000\n",
       "...\n",
       "17260     -1.00000\n",
       "17261     -1.00000\n",
       "17262   -122.45235\n",
       "17263   -122.40983\n",
       "17264   -122.48436\n",
       "17265     -1.00000\n",
       "17266   -122.43446\n",
       "17267   -122.40411\n",
       "17268   -118.95073\n",
       "17269   -118.94545\n",
       "17270   -118.85144\n",
       "17271   -118.86572\n",
       "17272     -1.00000\n",
       "17273     -1.00000\n",
       "17274     -1.00000\n",
       "Name: longitude, Length: 17275, dtype: float64"
      ]
     },
     "execution_count": 26,
     "metadata": {},
     "output_type": "execute_result"
    }
   ],
   "source": [
    "df.longitude"
   ]
  },
  {
   "cell_type": "code",
   "execution_count": 27,
   "metadata": {},
   "outputs": [
    {
     "data": {
      "text/html": [
       "<p>------ Partition: cde.ca.gov-schools-combined-public_schools ------<br/>\n",
       "vid       : p00a002001<br/>\n",
       "name      : cde.ca.gov-schools-combined-public_schools<br/>\n",
       "vname     : cde.ca.gov-schools-combined-public_schools-0.1.1<br/>\n",
       "format    : db<br/>\n",
       "variation : combined<br/>\n",
       "dataset   : schools<br/>\n",
       "source    : cde.ca.gov<br/>\n",
       "version   : 0.1.1<br/>\n",
       "table     : public_schools<br/>\n",
       "cache_key : cde.ca.gov/schools-combined-0.1.1/public_schools.db<br/>\n",
       "id        : p00a002<br/>\n",
       "revision  : 1<br/>\n",
       "path      : /data/library/cde.ca.gov/schools-combined-0.1.1/public_schools.db<br/>\n",
       "tables    : public_schools<br/>\n",
       "</p>"
      ],
      "text/plain": [
       "<db partition: cde.ca.gov-schools-combined-public_schools-0.1.1>"
      ]
     },
     "execution_count": 27,
     "metadata": {},
     "output_type": "execute_result"
    }
   ],
   "source": [
    "p"
   ]
  },
  {
   "cell_type": "code",
   "execution_count": null,
   "metadata": {},
   "outputs": [],
   "source": [
    "blocks = self.library.dep('blocks').partition"
   ]
  }
 ],
 "metadata": {
  "kernelspec": {
   "display_name": "Python 3",
   "language": "python",
   "name": "python3"
  },
  "language_info": {
   "codemirror_mode": {
    "name": "ipython",
    "version": 3
   },
   "file_extension": ".py",
   "mimetype": "text/x-python",
   "name": "python",
   "nbconvert_exporter": "python",
   "pygments_lexer": "ipython3",
   "version": "3.6.1"
  },
  "varInspector": {
   "cols": {
    "lenName": 16,
    "lenType": 16,
    "lenVar": 40
   },
   "kernels_config": {
    "python": {
     "delete_cmd_postfix": "",
     "delete_cmd_prefix": "del ",
     "library": "var_list.py",
     "varRefreshCmd": "print(var_dic_list())"
    },
    "r": {
     "delete_cmd_postfix": ") ",
     "delete_cmd_prefix": "rm(",
     "library": "var_list.r",
     "varRefreshCmd": "cat(var_dic_list()) "
    }
   },
   "types_to_exclude": [
    "module",
    "function",
    "builtin_function_or_method",
    "instance",
    "_Feature"
   ],
   "window_display": false
  }
 },
 "nbformat": 4,
 "nbformat_minor": 1
}
