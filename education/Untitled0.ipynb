{
 "metadata": {
  "name": "",
  "signature": "sha256:6d7fc11e8a516bf564ad7bcb3da02734205156060527a9e84a09bd13c0fbd8cc"
 },
 "nbformat": 3,
 "nbformat_minor": 0,
 "worksheets": [
  {
   "cells": [
    {
     "cell_type": "code",
     "collapsed": false,
     "input": [
      "Foobar?\n"
     ],
     "language": "python",
     "metadata": {},
     "outputs": []
    }
   ],
   "metadata": {}
  }
 ]
}