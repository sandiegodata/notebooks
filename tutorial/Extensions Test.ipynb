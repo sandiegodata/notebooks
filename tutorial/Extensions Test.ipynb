{
 "metadata": {
  "name": "",
  "signature": "sha256:b1bc21a36036301db95ff489e5442f3bd9dfa1e57ae6e1f0a09cb57632b447d7"
 },
 "nbformat": 3,
 "nbformat_minor": 0,
 "worksheets": [
  {
   "cells": [
    {
     "cell_type": "code",
     "collapsed": false,
     "input": [
      "%reload_ext ambry.ipython.extension"
     ],
     "language": "python",
     "metadata": {},
     "outputs": [
      {
       "output_type": "stream",
       "stream": "stdout",
       "text": [
        "Unloading\n",
        "Loading\n"
       ]
      }
     ],
     "prompt_number": 39
    },
    {
     "cell_type": "code",
     "collapsed": false,
     "input": [
      "%lmagic"
     ],
     "language": "python",
     "metadata": {},
     "outputs": [
      {
       "output_type": "stream",
       "stream": "stdout",
       "text": [
        "('Full access to the main IPython object:', <IPython.kernel.zmq.zmqshell.ZMQInteractiveShell object at 0x10e07eb50>)\n",
        "('Variables in the user namespace:', ['__', '_i12', '_13', '__builtin__', '_i2', '_ih', 'quit', '_i11', '_i38', 'Out', '_i', '_29', '_26', '_24', '_25', '__doc__', '_20', '_21', '_sh', '_8', '_7', '_23', '_i13', '_16', '_15', '_i10', '_i17', '_i16', '_i15', '_i14', '_i19', '_i18', '_oh', '_19', '_18', '_dh', '_12', '_17', '_i9', '_i8', '_i7', '_i6', '_i5', '_i4', '_i3', '_iii', '_i1', '_14', 'exit', 'get_ipython', '_i28', '_i29', '_i26', '_i27', '_i24', '_i25', '_i22', '_i23', '_i20', '_i21', '_11', '__builtins__', '_10', '_i40', '_i30', '__name__', '___', '_', '_36', '_32', '_34', '_i39', '_38', '_ii', 'In', '_i31', '_30', '_i33', '_i32', '_i35', '_i34', '_i37', '_i36'])\n",
        "['__class__', '__delattr__', '__dict__', '__doc__', '__format__', '__getattribute__', '__hash__', '__init__', '__module__', '__new__', '__reduce__', '__reduce_ex__', '__repr__', '__setattr__', '__sizeof__', '__str__', '__subclasshook__', '__weakref__', '_add_notifiers', '_config_changed', '_find_my_config', '_load_config', '_notify_trait', '_remove_notifiers', '_trait_dyn_inits', '_trait_notifiers', '_trait_values', 'arg_err', 'class_config_section', 'class_get_help', 'class_get_trait_help', 'class_print_help', 'class_trait_names', 'class_traits', 'cmagic', 'config', 'default_option', 'format_latex', 'lcmagic', 'lmagic', 'magics', 'on_trait_change', 'options_table', 'parent', 'parse_options', 'registered', 'section_names', 'shell', 'trait_metadata', 'trait_names', 'traits', 'update_config']\n",
        "{'Session': {'key': u'b9415238-b394-4d94-a209-097222b06f89'}, 'ProfileDir': {'location': u'/Users/eric/.ipython/profile_default'}, 'IPKernelApp': {'parent_handle': 1, 'parent_appname': 'ipython-notebook', 'connection_file': u'/Users/eric/.ipython/profile_default/security/kernel-b6f593ce-7b9e-43e1-b778-cecf6b80814f.json'}}\n",
        "<IPython.kernel.zmq.zmqshell.ZMQInteractiveShell object at 0x10e07eb50>\n"
       ]
      },
      {
       "metadata": {},
       "output_type": "pyout",
       "prompt_number": 40,
       "text": [
        "u''"
       ]
      }
     ],
     "prompt_number": 40
    },
    {
     "cell_type": "code",
     "collapsed": false,
     "input": [
      "%%lcmagic foobar\n",
      "\n",
      "Bar\n",
      "Baz"
     ],
     "language": "python",
     "metadata": {},
     "outputs": [
      {
       "output_type": "stream",
       "stream": "stdout",
       "text": [
        "Called as cell magic\n"
       ]
      },
      {
       "metadata": {},
       "output_type": "pyout",
       "prompt_number": 36,
       "text": [
        "(u'foobar', u'\\nBar\\nBaz')"
       ]
      }
     ],
     "prompt_number": 36
    },
    {
     "cell_type": "code",
     "collapsed": false,
     "input": [
      "get_config()"
     ],
     "language": "python",
     "metadata": {},
     "outputs": [
      {
       "ename": "NameError",
       "evalue": "name 'get_config' is not defined",
       "output_type": "pyerr",
       "traceback": [
        "\u001b[0;31m---------------------------------------------------------------------------\u001b[0m\n\u001b[0;31mNameError\u001b[0m                                 Traceback (most recent call last)",
        "\u001b[0;32m<ipython-input-41-2302c14927fe>\u001b[0m in \u001b[0;36m<module>\u001b[0;34m()\u001b[0m\n\u001b[0;32m----> 1\u001b[0;31m \u001b[0mget_config\u001b[0m\u001b[0;34m(\u001b[0m\u001b[0;34m)\u001b[0m\u001b[0;34m\u001b[0m\u001b[0m\n\u001b[0m",
        "\u001b[0;31mNameError\u001b[0m: name 'get_config' is not defined"
       ]
      }
     ],
     "prompt_number": 41
    },
    {
     "cell_type": "code",
     "collapsed": false,
     "input": [],
     "language": "python",
     "metadata": {},
     "outputs": []
    },
    {
     "cell_type": "code",
     "collapsed": false,
     "input": [],
     "language": "python",
     "metadata": {},
     "outputs": []
    }
   ],
   "metadata": {}
  }
 ]
}