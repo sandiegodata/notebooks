{
 "metadata": {
  "name": "",
  "signature": "sha256:2cfd0628fd7c2f92d02b4467f33d4a3fe00ddb66ec06dc65967b47cd7de32cf3"
 },
 "nbformat": 3,
 "nbformat_minor": 0,
 "worksheets": [
  {
   "cells": [
    {
     "cell_type": "code",
     "collapsed": false,
     "input": [
      "import ambry\n",
      "import pandas as pd\n",
      "l = ambry.ilibrary()\n",
      "l.find(name=\"geocode\")\n",
      "b = l.get('clarinova.com-geocode-casnd-1.0.7')\n",
      "b.partitions\n"
     ],
     "language": "python",
     "metadata": {},
     "outputs": [
      {
       "html": [
        "<table>\n",
        "<tr><th>Id</th><th>Name</th><th>table</th></tr>\n",
        "<tr><td>p00s001</td><td>clarinova.com-geocode-casnd-address</td><td>address</td></tr>\n",
        "<tr><td>p00s002</td><td>clarinova.com-geocode-casnd-geocoder</td><td>geocoder</td></tr>\n",
        "</table>"
       ],
       "metadata": {},
       "output_type": "pyout",
       "prompt_number": 6,
       "text": [
        "<ambry.partitions.Partitions at 0x1080f7790>"
       ]
      }
     ],
     "prompt_number": 6
    },
    {
     "cell_type": "code",
     "collapsed": false,
     "input": [
      "gp = l.get('clarinova.com-geocode-casnd-address').partition\n",
      "gp"
     ],
     "language": "python",
     "metadata": {},
     "outputs": [
      {
       "html": [
        "<p>------ Partition: clarinova.com-geocode-casnd-address ------<br/>\n",
        "vid       : p00s001007<br/>\n",
        "name      : clarinova.com-geocode-casnd-address<br/>\n",
        "vname     : clarinova.com-geocode-casnd-address-1.0.7<br/>\n",
        "format    : db<br/>\n",
        "dataset   : geocode<br/>\n",
        "source    : clarinova.com<br/>\n",
        "version   : 1.0.7<br/>\n",
        "bspace    : casnd<br/>\n",
        "table     : address<br/>\n",
        "cache_key : clarinova.com/geocode-casnd-1.0.7/address.db<br/>\n",
        "id        : p00s001<br/>\n",
        "revision  : 7<br/>\n",
        "path      : /data/library/clarinova.com/geocode-casnd-1.0.7/address.db<br/>\n",
        "tables    : address<br/>\n",
        "</p>"
       ],
       "metadata": {},
       "output_type": "pyout",
       "prompt_number": 9,
       "text": [
        "<db partition: clarinova.com-geocode-casnd-address-1.0.7>"
       ]
      }
     ],
     "prompt_number": 9
    },
    {
     "cell_type": "code",
     "collapsed": false,
     "input": [
      "gp.tables"
     ],
     "language": "python",
     "metadata": {},
     "outputs": [
      {
       "metadata": {},
       "output_type": "pyout",
       "prompt_number": 10,
       "text": [
        "[u'address']"
       ]
      }
     ],
     "prompt_number": 10
    },
    {
     "cell_type": "code",
     "collapsed": false,
     "input": [
      "q = \"\"\"\n",
      "CREATE TABLE seginter AS SELECT * FROM (\n",
      "SELECT segment.id as segment_id, road_id, f_node_id as inode_id, road.name, road.mpname, suffix, direction\n",
      "FROM segment JOIN road ON road_id = road.id\n",
      "UNION\n",
      "SELECT segment.id as segment_id, road_id, t_node_id as inode_id, road.name, road.mpname, suffix, direction\n",
      "FROM segment JOIN road ON road_id = road.id\n",
      ") \n",
      "\"\"\"\n",
      "\n",
      "gp.query(q)\n"
     ],
     "language": "python",
     "metadata": {},
     "outputs": [
      {
       "metadata": {},
       "output_type": "pyout",
       "prompt_number": 28,
       "text": [
        "<sqlalchemy.engine.result.ResultProxy at 0x10a454990>"
       ]
      }
     ],
     "prompt_number": 28
    },
    {
     "cell_type": "code",
     "collapsed": false,
     "input": [
      "\n",
      "def q(s1, s2):\n",
      "    q = \"\"\"\n",
      "    SELECT \n",
      "    i1.inode_id,\n",
      "    i1.segment_id as i1_seg, i1.name as i1_name, i1.suffix as i1_sfx , \n",
      "    i2.segment_id as i2_seg, i2.name as i2_name, i2.suffix as i2_sfx \n",
      "    FROM seginter i1 JOIN seginter i2 ON i1.inode_id = i2.inode_id\n",
      "    WHERE i1.road_id != i2.road_id\n",
      "    AND i1.name = '{}' \n",
      "    AND i2.name = '{}'\n",
      "    LIMIT 1\n",
      "    \"\"\".format(s1.title(), s2.title())\n",
      "    \n",
      "    return [ row for row in gp.query(q)]\n",
      "\n",
      "from ambry.geo.address import Parser\n",
      "import csv\n",
      "import ambry\n",
      "\n",
      "parser = Parser()\n",
      "\n",
      "with open('/tmp/intersections.csv') as f:\n",
      "    reader = csv.DictReader(f)\n",
      "    for i, row in enumerate(reader):\n",
      "        if i > 100:\n",
      "            break\n",
      "            \n",
      "        p1 = parser.parse(row['primary_rd'])\n",
      "        p2 = parser.parse(row['secondary_rd'])\n",
      "        \n",
      "        print q(p1.road.name, p2.road.name)"
     ],
     "language": "python",
     "metadata": {},
     "outputs": [
      {
       "output_type": "stream",
       "stream": "stdout",
       "text": [
        "[]\n",
        "[]"
       ]
      },
      {
       "output_type": "stream",
       "stream": "stdout",
       "text": [
        "\n",
        "[(26119, 25098, u'Melrose', u'dr', 57917, u'Dawson', u'dr')]"
       ]
      },
      {
       "output_type": "stream",
       "stream": "stdout",
       "text": [
        "\n",
        "[]"
       ]
      },
      {
       "output_type": "stream",
       "stream": "stdout",
       "text": [
        "\n",
        "[(89824, 14914, u'Kempf', u'st', 31122, u'Broadway', u'')]"
       ]
      },
      {
       "output_type": "stream",
       "stream": "stdout",
       "text": [
        "\n",
        "[]"
       ]
      },
      {
       "output_type": "stream",
       "stream": "stdout",
       "text": [
        "\n",
        "[(91051, 32428, u'Massachusetts', u'ave', 48262, u'Central', u'ave')]"
       ]
      },
      {
       "output_type": "stream",
       "stream": "stdout",
       "text": [
        "\n",
        "[(28670, 16015, u'San Marcos', u'blvd', 33215, u'Bent', u'ave')]"
       ]
      },
      {
       "output_type": "stream",
       "stream": "stdout",
       "text": [
        "\n",
        "[]"
       ]
      },
      {
       "output_type": "stream",
       "stream": "stdout",
       "text": [
        "\n",
        "[(18536, 26544, u'Melrose', u'dr', 71702, u'Vista', u'way')]"
       ]
      },
      {
       "output_type": "stream",
       "stream": "stdout",
       "text": [
        "\n",
        "[(68255, 48956, u'Pepper', u'dr', 47347, u'Teton', u'dr')]"
       ]
      },
      {
       "output_type": "stream",
       "stream": "stdout",
       "text": [
        "\n",
        "[(95704, 30961, u'Skyline', u'dr', 46261, u'Lansing', u'dr')]"
       ]
      },
      {
       "output_type": "stream",
       "stream": "stdout",
       "text": [
        "\n",
        "[]"
       ]
      },
      {
       "output_type": "stream",
       "stream": "stdout",
       "text": [
        "\n",
        "[]"
       ]
      },
      {
       "output_type": "stream",
       "stream": "stdout",
       "text": [
        "\n",
        "[(43897, 89997, u'Birmingham', u'dr', 44120, u'Freda', u'ln')]"
       ]
      },
      {
       "output_type": "stream",
       "stream": "stdout",
       "text": [
        "\n",
        "[]"
       ]
      },
      {
       "output_type": "stream",
       "stream": "stdout",
       "text": [
        "\n",
        "[(52314, 31657, u'Poway', u'rd', 92140, u'Community', u'rd')]"
       ]
      },
      {
       "output_type": "stream",
       "stream": "stdout",
       "text": [
        "\n",
        "[(22599, 71745, u'Thibodo', u'rd', 8542, u'Chaparral', u'dr')]"
       ]
      },
      {
       "output_type": "stream",
       "stream": "stdout",
       "text": [
        "\n",
        "[]"
       ]
      },
      {
       "output_type": "stream",
       "stream": "stdout",
       "text": [
        "\n",
        "[]"
       ]
      },
      {
       "output_type": "stream",
       "stream": "stdout",
       "text": [
        "\n",
        "[]"
       ]
      },
      {
       "output_type": "stream",
       "stream": "stdout",
       "text": [
        "\n",
        "[(65318, 45765, u'Mission Gorge', u'rd', 122133, u'Mesa', u'rd')]"
       ]
      },
      {
       "output_type": "stream",
       "stream": "stdout",
       "text": [
        "\n",
        "[]"
       ]
      },
      {
       "output_type": "stream",
       "stream": "stdout",
       "text": [
        "\n",
        "[(90439, 124368, u'College', u'pl', 32594, u'Federal', u'blvd')]"
       ]
      },
      {
       "output_type": "stream",
       "stream": "stdout",
       "text": [
        "\n",
        "[]"
       ]
      },
      {
       "output_type": "stream",
       "stream": "stdout",
       "text": [
        "\n",
        "[]"
       ]
      },
      {
       "output_type": "stream",
       "stream": "stdout",
       "text": [
        "\n",
        "[(64541, 29515, u'Mission Gorge', u'rd', 92707, u'Cuyamaca', u'st')]"
       ]
      },
      {
       "output_type": "stream",
       "stream": "stdout",
       "text": [
        "\n",
        "[(28520, 92970, u'Grand', u'ave', 77778, u'San Marcos', u'blvd')]"
       ]
      },
      {
       "output_type": "stream",
       "stream": "stdout",
       "text": [
        "\n",
        "[(62423, 122588, u'Carlton Oaks', u'dr', 109788, u'Willow Pond', u'rd')]"
       ]
      },
      {
       "output_type": "stream",
       "stream": "stdout",
       "text": [
        "\n",
        "[(18681, 56605, u'Vista', u'way', 87203, u'Copper', u'ave')]"
       ]
      },
      {
       "output_type": "stream",
       "stream": "stdout",
       "text": [
        "\n",
        "[(28289, 48772, u'Knoll', u'rd', 94812, u'San Marcos', u'blvd')]"
       ]
      },
      {
       "output_type": "stream",
       "stream": "stdout",
       "text": [
        "\n",
        "[]"
       ]
      },
      {
       "output_type": "stream",
       "stream": "stdout",
       "text": [
        "\n",
        "[(26052, 15004, u'Mission', u'rd', 120969, u'Pacific', u'st')]"
       ]
      },
      {
       "output_type": "stream",
       "stream": "stdout",
       "text": [
        "\n",
        "[]"
       ]
      },
      {
       "output_type": "stream",
       "stream": "stdout",
       "text": [
        "\n",
        "[]"
       ]
      },
      {
       "output_type": "stream",
       "stream": "stdout",
       "text": [
        "\n",
        "[(52323, 30490, u'Poway', u'rd', 123277, u'Midland', u'rd')]"
       ]
      },
      {
       "output_type": "stream",
       "stream": "stdout",
       "text": [
        "\n",
        "[(44777, 11113, u'San Elijo', u'ave', 28942, u'Chesterfield', u'dr')]"
       ]
      },
      {
       "output_type": "stream",
       "stream": "stdout",
       "text": [
        "\n",
        "[(28670, 16015, u'San Marcos', u'blvd', 33215, u'Bent', u'ave')]"
       ]
      },
      {
       "output_type": "stream",
       "stream": "stdout",
       "text": [
        "\n",
        "[]"
       ]
      },
      {
       "output_type": "stream",
       "stream": "stdout",
       "text": [
        "\n",
        "[]"
       ]
      },
      {
       "output_type": "stream",
       "stream": "stdout",
       "text": [
        "\n",
        "[]"
       ]
      },
      {
       "output_type": "stream",
       "stream": "stdout",
       "text": [
        "\n",
        "[(53246, 31337, u'Poway', u'rd', 107923, u'Iola', u'way')]"
       ]
      },
      {
       "output_type": "stream",
       "stream": "stdout",
       "text": [
        "\n",
        "[(27171, 13487, u'Firebird', u'ln', 94475, u'Gosnell', u'way')]"
       ]
      },
      {
       "output_type": "stream",
       "stream": "stdout",
       "text": [
        "\n",
        "[(22445, 57828, u'Vista', u'way', 88307, u'Pacific', u'ter')]"
       ]
      },
      {
       "output_type": "stream",
       "stream": "stdout",
       "text": [
        "\n",
        "[]"
       ]
      },
      {
       "output_type": "stream",
       "stream": "stdout",
       "text": [
        "\n",
        "[]"
       ]
      },
      {
       "output_type": "stream",
       "stream": "stdout",
       "text": [
        "\n",
        "[(61284, 47177, u'Mast', u'blvd', 17196, u'Bilteer', u'dr')]"
       ]
      },
      {
       "output_type": "stream",
       "stream": "stdout",
       "text": [
        "\n",
        "[(65513, 93890, u'Magnolia', u'ave', 47909, u'Alexander', u'way')]"
       ]
      },
      {
       "output_type": "stream",
       "stream": "stdout",
       "text": [
        "\n",
        "[(61286, 46439, u'Conejo', u'rd', 47177, u'Mast', u'blvd')]"
       ]
      },
      {
       "output_type": "stream",
       "stream": "stdout",
       "text": [
        "\n",
        "[]"
       ]
      },
      {
       "output_type": "stream",
       "stream": "stdout",
       "text": [
        "\n",
        "[]"
       ]
      },
      {
       "output_type": "stream",
       "stream": "stdout",
       "text": [
        "\n",
        "[(54501, 32107, u'Scripps Poway', u'pky', 33280, u'Pomerado', u'rd')]"
       ]
      },
      {
       "output_type": "stream",
       "stream": "stdout",
       "text": [
        "\n",
        "[]"
       ]
      },
      {
       "output_type": "stream",
       "stream": "stdout",
       "text": [
        "\n",
        "[(89907, 30916, u'Broadway', u'', 77499, u'New Jersey', u'ave')]"
       ]
      },
      {
       "output_type": "stream",
       "stream": "stdout",
       "text": [
        "\n",
        "[(66890, 79629, u'Mesa', u'rd', 122673, u'Prospect', u'ave')]"
       ]
      },
      {
       "output_type": "stream",
       "stream": "stdout",
       "text": [
        "\n",
        "[]"
       ]
      },
      {
       "output_type": "stream",
       "stream": "stdout",
       "text": [
        "\n",
        "[(13073, 72546, u'Vista', u'way', 118483, u'Old Taylor', u'st')]"
       ]
      },
      {
       "output_type": "stream",
       "stream": "stdout",
       "text": [
        "\n",
        "[(25712, 60683, u'Capalina', u'rd', 29278, u'Hollenbeck', u'rd')]"
       ]
      },
      {
       "output_type": "stream",
       "stream": "stdout",
       "text": [
        "\n",
        "[(24049, 26520, u'Melrose', u'dr', 11834, u'Shadowridge', u'dr')]"
       ]
      },
      {
       "output_type": "stream",
       "stream": "stdout",
       "text": [
        "\n",
        "[]"
       ]
      },
      {
       "output_type": "stream",
       "stream": "stdout",
       "text": [
        "\n",
        "[(53903, 47814, u'Stowe', u'dr', 78281, u'Community', u'rd')]"
       ]
      },
      {
       "output_type": "stream",
       "stream": "stdout",
       "text": [
        "\n",
        "[]"
       ]
      },
      {
       "output_type": "stream",
       "stream": "stdout",
       "text": [
        "\n",
        "[(42878, 27795, u'Mackinnon', u'ave', 43719, u'Kings Cross', u'dr')]"
       ]
      },
      {
       "output_type": "stream",
       "stream": "stdout",
       "text": [
        "\n",
        "[(14116, 24754, u'Anza', u'ave', 116786, u'Via Felicidad', u'')]"
       ]
      },
      {
       "output_type": "stream",
       "stream": "stdout",
       "text": [
        "\n",
        "[]"
       ]
      },
      {
       "output_type": "stream",
       "stream": "stdout",
       "text": [
        "\n",
        "[]"
       ]
      },
      {
       "output_type": "stream",
       "stream": "stdout",
       "text": [
        "\n",
        "[(64528, 29625, u'Mission Gorge', u'rd', 122864, u'Olive', u'ln')]"
       ]
      },
      {
       "output_type": "stream",
       "stream": "stdout",
       "text": [
        "\n",
        "[]"
       ]
      },
      {
       "output_type": "stream",
       "stream": "stdout",
       "text": [
        "\n",
        "[(54501, 32107, u'Scripps Poway', u'pky', 33280, u'Pomerado', u'rd')]"
       ]
      },
      {
       "output_type": "stream",
       "stream": "stdout",
       "text": [
        "\n",
        "[(54206, 15189, u'Scripps Poway', u'pky', 63081, u'Community', u'rd')]"
       ]
      },
      {
       "output_type": "stream",
       "stream": "stdout",
       "text": [
        "\n",
        "[(52323, 123277, u'Midland', u'rd', 30490, u'Poway', u'rd')]"
       ]
      },
      {
       "output_type": "stream",
       "stream": "stdout",
       "text": [
        "\n",
        "[]"
       ]
      },
      {
       "output_type": "stream",
       "stream": "stdout",
       "text": [
        "\n",
        "[(64530, 15900, u'Mission Gorge', u'rd', 76176, u'Fanita', u'dr')]"
       ]
      },
      {
       "output_type": "stream",
       "stream": "stdout",
       "text": [
        "\n",
        "[]"
       ]
      },
      {
       "output_type": "stream",
       "stream": "stdout",
       "text": [
        "\n",
        "[]"
       ]
      },
      {
       "output_type": "stream",
       "stream": "stdout",
       "text": [
        "\n",
        "[(49156, 91109, u'Camino Del Norte', u'', 78467, u'Pomerado', u'rd')]"
       ]
      },
      {
       "output_type": "stream",
       "stream": "stdout",
       "text": [
        "\n",
        "[(26446, 26402, u'La Mirada', u'dr', 8148, u'Progress', u'st')]"
       ]
      },
      {
       "output_type": "stream",
       "stream": "stdout",
       "text": [
        "\n",
        "[(64637, 123145, u'Woodside', u'ave', 78111, u'Magnolia', u'ave')]"
       ]
      },
      {
       "output_type": "stream",
       "stream": "stdout",
       "text": [
        "\n",
        "[]"
       ]
      },
      {
       "output_type": "stream",
       "stream": "stdout",
       "text": [
        "\n",
        "[(48799, 17058, u'Pomerado', u'rd', 17164, u'Kaitz', u'st')]"
       ]
      },
      {
       "output_type": "stream",
       "stream": "stdout",
       "text": [
        "\n",
        "[(17161, 41028, u'Olive', u'ave', 8543, u'Goetting', u'way')]"
       ]
      },
      {
       "output_type": "stream",
       "stream": "stdout",
       "text": [
        "\n",
        "[(16177, 41937, u'Vista', u'way', 72622, u'Townsite', u'dr')]"
       ]
      },
      {
       "output_type": "stream",
       "stream": "stdout",
       "text": [
        "\n",
        "[(18841, 57814, u'Melrose', u'dr', 75004, u'Hacienda', u'dr')]"
       ]
      },
      {
       "output_type": "stream",
       "stream": "stdout",
       "text": [
        "\n",
        "[(29474, 15339, u'San Marcos', u'blvd', 17126, u'Discovery', u'st')]"
       ]
      },
      {
       "output_type": "stream",
       "stream": "stdout",
       "text": [
        "\n",
        "[(26560, 63064, u'Mission', u'rd', 94712, u'Las Posas', u'rd')]"
       ]
      },
      {
       "output_type": "stream",
       "stream": "stdout",
       "text": [
        "\n",
        "[]"
       ]
      },
      {
       "output_type": "stream",
       "stream": "stdout",
       "text": [
        "\n",
        "[]"
       ]
      },
      {
       "output_type": "stream",
       "stream": "stdout",
       "text": [
        "\n",
        "[(64224, 109505, u'Woodside', u'ave', 92695, u'Riderwood', u'ter')]"
       ]
      },
      {
       "output_type": "stream",
       "stream": "stdout",
       "text": [
        "\n",
        "[(17547, 26595, u'Santa Fe', u'ave', 55228, u'Main', u'st')]"
       ]
      },
      {
       "output_type": "stream",
       "stream": "stdout",
       "text": [
        "\n",
        "[(50137, 93004, u'Taunt', u'pl', 106937, u'Taunt', u'rd')]"
       ]
      },
      {
       "output_type": "stream",
       "stream": "stdout",
       "text": [
        "\n",
        "[(13746, 28216, u'Vista', u'way', 11976, u'Arcadia', u'ave')]"
       ]
      },
      {
       "output_type": "stream",
       "stream": "stdout",
       "text": [
        "\n",
        "[]"
       ]
      },
      {
       "output_type": "stream",
       "stream": "stdout",
       "text": [
        "\n",
        "[(15027, 71623, u'Bobier', u'dr', 87165, u'Calle Jules', u'')]"
       ]
      },
      {
       "output_type": "stream",
       "stream": "stdout",
       "text": [
        "\n",
        "[(15479, 73159, u'Bartlett', u'dr', 41754, u'East', u'dr')]"
       ]
      },
      {
       "output_type": "stream",
       "stream": "stdout",
       "text": [
        "\n",
        "[(43825, 11643, u'Mackinnon', u'ave', 104528, u'Birmingham', u'dr')]"
       ]
      },
      {
       "output_type": "stream",
       "stream": "stdout",
       "text": [
        "\n",
        "[]"
       ]
      },
      {
       "output_type": "stream",
       "stream": "stdout",
       "text": [
        "\n",
        "[(91016, 77300, u'Central', u'ave', 45357, u'Main', u'st')]"
       ]
      },
      {
       "output_type": "stream",
       "stream": "stdout",
       "text": [
        "\n",
        "[(60179, 31327, u'El Nopal', u'', 121186, u'Julio', u'pl')]"
       ]
      },
      {
       "output_type": "stream",
       "stream": "stdout",
       "text": [
        "\n",
        "[(41551, 43567, u'Encinitas', u'blvd', 28206, u'Willowspring', u'dr')]"
       ]
      },
      {
       "output_type": "stream",
       "stream": "stdout",
       "text": [
        "\n",
        "[]"
       ]
      },
      {
       "output_type": "stream",
       "stream": "stdout",
       "text": [
        "\n",
        "[(40657, 91836, u'Encinitas', u'blvd', 13834, u'Vulcan', u'ave')]"
       ]
      },
      {
       "output_type": "stream",
       "stream": "stdout",
       "text": [
        "\n"
       ]
      }
     ],
     "prompt_number": 59
    },
    {
     "cell_type": "code",
     "collapsed": false,
     "input": [],
     "language": "python",
     "metadata": {},
     "outputs": []
    }
   ],
   "metadata": {}
  }
 ]
}