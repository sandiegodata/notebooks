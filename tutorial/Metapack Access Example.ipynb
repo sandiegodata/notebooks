{
 "cells": [
  {
   "cell_type": "raw",
   "metadata": {
    "collapsed": true,
    "tags": [
     "frontmatter"
    ]
   },
   "source": [
    "draft: false\n",
    "description: Examples for opening Metapack packages from a CKAN repository\n",
    "toc: false\n",
    "show_input: show\n",
    "section: notebooks\n",
    "github: https://github.com/sandiegodata/kb.sandiegodata.org/blob/master/notebooks/tutorial/Metapack%20Access%20Example.ipynb\n",
    "authors:\n",
    "- name: Eric Busboom"
   ]
  },
  {
   "cell_type": "markdown",
   "metadata": {
    "tags": [
     "title"
    ]
   },
   "source": [
    "# Metapack Access Example"
   ]
  },
  {
   "cell_type": "markdown",
   "metadata": {},
   "source": [
    "\n",
    "\n",
    "[Metatab](http://metatab.org) is a system for documenting data set metadata, which the program [metapack](https://github.com/CivicKnowledge/metapack) uses to create data packages. You can also us the metapack python module to access data packages from the web, which provides easy access to documentation and pandas data frames in Jupyter notebooks. \n",
    "\n",
    "To start, you'll need to install metatab, which you should be able to do with:\n",
    "\n",
    "> pip install metatab\n",
    "\n",
    "The system is under active development, so if there are problems, you can install the latest development versions of the important modules with the [development requirements.txt file on github:](https://github.com/CivicKnowledge/metapack/blob/master/dev/requirements.txt) \n",
    "\n",
    "> pip install -r https://raw.githubusercontent.com/CivicKnowledge/metapack/master/dev/requirements.txt\n",
    "\n",
    "After installing the module, you should be able to run the code in this notebook. \n",
    "\n",
    "# Metapack Packages\n",
    "\n",
    "Metapack packages are collections of files that contain data and metadata. Metapack has several package types, including [Excel](http://s3.amazonaws.com/library.metatab.org/aspe.hhs.gov-dementia_prevalence-2.xlsx), [Zip](http://s3.amazonaws.com/library.metatab.org/aspe.hhs.gov-dementia_prevalence-2.zip), CSV, File systen and S3. Most of the time with Jupyter notebooks, you will use the CSV packages, but the ZIP and Excel packages will also work. \n",
    "\n",
    "First, you'll need to get a reference to a package. Most often, you'll get these from our (CKAN Data Repository at data.sandiegodata.org)[http://data.sandiegodata.org]. In this example, well use the [Community Reinvestment Act Disclosure Files](http://data.sandiegodata.org/dataset/ffiec-gov-cra_disclosure_smb_orig-2010_2015). \n",
    "\n",
    "First, visit the [data package page in the data repository](http://data.sandiegodata.org/dataset/ffiec-gov-cra_disclosure_smb_orig-2010_2015). The files list will have both data package files and data files. The data package files are the ones that start with the name of the package, `ffiec.gov-cra_disclosure_smb_orig-2010_2015-2`. SO, these are package files: \n",
    "\n",
    "* `ffiec.gov-cra_disclosure_smb_orig-2010_2015-2.csv`\n",
    "* `ffiec.gov-cra_disclosure_smb_orig-2010_2015-2.zip`\n",
    "* `ffiec.gov-cra_disclosure_smb_orig-2010_2015-2.xlsx`\n",
    "\n",
    "\n",
    "The last one, the `.csv` file, is the CSV package. Using CSV packages is usually most efficient because you only need to download the data files that you use. So, the first step is to get the CSV package URL. From the [data package page on the CKAN repository](http://data.sandiegodata.org/dataset/ffiec-gov-cra_disclosure_smb_orig-2010_2015) you can:\n",
    "\n",
    "1. Click on the \"Explore\" button next to the CSV package file, then right-click on \"Go to resource\" to copy the URL. \n",
    "2. Click on the name of the CSV package, then copy the URL at the top of the following page. \n",
    "\n",
    "After you have the package URL, pass it into the `open_package` function, as shown in next cell. The function will return a data package object, which Jupyter will print by showing the package documentation. \n"
   ]
  },
  {
   "cell_type": "code",
   "execution_count": 1,
   "metadata": {},
   "outputs": [
    {
     "data": {
      "text/html": [
       "<h1>Community Reinvestment Act Disclosure Files</h1>\n",
       "<p><p>ffiec.gov-cra_disclosure_smb_orig-2010_2015-2</p>\n",
       "<p>Multi-year CRA disclosures for small business originations.</p>\n",
       "<p>metapack+http://library.metatab.org/ffiec.gov-cra_disclosure_smb_orig-2010_2015-2.csv</p></p>\n",
       "<h2>Contacts</h2>\n",
       "<p><strong>Wrangler:</strong> <a href=\"mailto:eric@sandiegodata.org\">Eric Busboom</a> <a href=\"http://sandiegodata.org\">San Diego Regional Data Library</a></p>\n",
       "<h2>Resources</h2>\n",
       "<p><ol>\n",
       "<li><p><strong>sb_loan_orig</strong> - <a target=\"_blank\" href=\"http://library.metatab.org/ffiec.gov-cra_disclosure_smb_orig-2010_2015-2/data/sb_loan_orig.csv\">http://library.metatab.org/ffiec.gov-cra_disclosure_smb_orig-2010_2015-2/data/sb_loan_orig.csv</a> Table D1-1, small business disclosire records, for years 2010 to 2015 inclusive</p></li>\n",
       "</ol></p>\n",
       "<h2>References</h2>\n",
       "<p><ol>\n",
       "<li><p><strong>discl_15</strong> - <a target=\"_blank\" href=\"https://www.ffiec.gov/cra/xls/15exp_discl.zip\">https://www.ffiec.gov/cra/xls/15exp_discl.zip</a> </p></li>\n",
       "<li><p><strong>discl_14</strong> - <a target=\"_blank\" href=\"https://www.ffiec.gov/cra/xls/14exp_discl.zip\">https://www.ffiec.gov/cra/xls/14exp_discl.zip</a> </p></li>\n",
       "<li><p><strong>discl_13</strong> - <a target=\"_blank\" href=\"https://www.ffiec.gov/cra/xls/13exp_discl.zip\">https://www.ffiec.gov/cra/xls/13exp_discl.zip</a> </p></li>\n",
       "<li><p><strong>discl_12</strong> - <a target=\"_blank\" href=\"https://www.ffiec.gov/cra/xls/12exp_discl.zip\">https://www.ffiec.gov/cra/xls/12exp_discl.zip</a> </p></li>\n",
       "<li><p><strong>discl_11</strong> - <a target=\"_blank\" href=\"https://www.ffiec.gov/cra/xls/11exp_discl.zip\">https://www.ffiec.gov/cra/xls/11exp_discl.zip</a> </p></li>\n",
       "<li><p><strong>discl_10</strong> - <a target=\"_blank\" href=\"https://www.ffiec.gov/cra/xls/10exp_discl.zip\">https://www.ffiec.gov/cra/xls/10exp_discl.zip</a> </p></li></p>\n",
       "</ol>"
      ],
      "text/plain": [
       "<metapack.doc.MetapackDoc at 0x10f55f2e8>"
      ]
     },
     "execution_count": 1,
     "metadata": {},
     "output_type": "execute_result"
    }
   ],
   "source": [
    "\n",
    "import metapack as mp\n",
    "\n",
    "pkg =  mp.open_package('http://library.metatab.org/ffiec.gov-cra_disclosure_smb_orig-2010_2015-2.csv')\n",
    "\n",
    "pkg"
   ]
  },
  {
   "cell_type": "markdown",
   "metadata": {},
   "source": [
    "The `Resources` section lists the datafiles in the package, while the `References` section show the links to datafiles that were used to create the resources. You can use the name of a resource in a call to `pkg.resource` to create a resource object, which like the package object, can be pretty printed in Jupyter. "
   ]
  },
  {
   "cell_type": "code",
   "execution_count": 2,
   "metadata": {},
   "outputs": [
    {
     "data": {
      "text/html": [
       "<h3><a name=\"resource-sb_loan_orig\"></a>sb_loan_orig</h3><p><a target=\"_blank\" href=\"http://library.metatab.org/ffiec.gov-cra_disclosure_smb_orig-2010_2015-2/data/sb_loan_orig.csv\">http://library.metatab.org/ffiec.gov-cra_disclosure_smb_orig-2010_2015-2/data/sb_loan_orig.csv</a></p><table>\n",
       "<tr><th>Header</th><th>Type</th><th>Description</th></tr><tr><td>table_id</td><td>text</td><td>Value is D1-1</td></tr> \n",
       "<tr><td>respondent_id</td><td>text</td><td>Assigned by regulatory agency \n",
       "(same as HMDAID if applicable);  \n",
       "Right justified with leading zeros</td></tr> \n",
       "<tr><td>agency</td><td>integer</td><td>Values are 1=OCC, 2=FRS, \n",
       "3=FDIC, or 4=OTS</td></tr> \n",
       "<tr><td>year</td><td>integer</td><td>Four digit year (e.g. 2012)</td></tr> \n",
       "<tr><td>loan_type</td><td>integer</td><td>Value is 4 (Small Business)</td></tr> \n",
       "<tr><td>action</td><td>integer</td><td>Value is 1 (Originations)</td></tr> \n",
       "<tr><td>state</td><td>integer</td><td>FIPS code with leading zeros \n",
       "or blank for totals across all \n",
       "states</td></tr> \n",
       "<tr><td>county</td><td>integer</td><td>FIPS code with leading zeros or blank \n",
       "for totals across all counties</td></tr> \n",
       "<tr><td>msa</td><td>integer</td><td>As defined by OMB; Right justified \n",
       "with leading zeros, NA left justified \n",
       "for areas outside of MSA/MD or blank \n",
       "for totals across all MSA/MDs</td></tr> \n",
       "<tr><td>assessment_area</td><td>text</td><td>Values are 0001 through 9999; Right \n",
       "justified with leading zeros, NA left justified \n",
       "for areas outside of an Assessment \n",
       "Area (including predominately military \n",
       "areas) OR blank for totals across \n",
       "all Assessment Areas</td></tr> \n",
       "<tr><td>partial_county</td><td>text</td><td>Values are \n",
       "Y = Yes \n",
       "N = No \n",
       "OR blank for totals</td></tr> \n",
       "<tr><td>split_county</td><td>text</td><td>Values are \n",
       "Y = Yes \n",
       "N = No \n",
       "OR blank for totals</td></tr> \n",
       "<tr><td>pop_class</td><td>text</td><td>Values are \n",
       "S= counties with \n",
       "< 500,000 in population \n",
       "L= counties with \n",
       ">500,000 in population \n",
       "OR blank for totals</td></tr> \n",
       "<tr><td>income_total</td><td>text</td><td>Values are \n",
       "1= < 10% of Median Family \n",
       "Income(MFI) \n",
       "2= 10% to 20% of MFI \n",
       "3= 20% to 30% of MFI \n",
       "4= 30% to 40% of MFI \n",
       "5= 40% to 50% of MFI \n",
       "6= 50% to 60% of MFI \n",
       "7= 60% to 70% of MFI \n",
       "8= 70% to 80% of MFI \n",
       "9= 80% to 90% of MFI \n",
       " 10= 90% to 100% of MFI \n",
       " 11= 100% to 110% of MFI \n",
       " 12= 110% to 120% of MFI \n",
       " 13= > 120% of MFI \n",
       " 14= MFI not known (income \n",
       "percentage = 0) \n",
       " 15= Tract not Known (reported \n",
       "as NA) \n",
       "101= Low Income (< 50% of \n",
       "MFI - excluding 0) \n",
       "102= Moderate Income (50% \n",
       "to 80% of MFI) \n",
       "103= Middle Income (80% to \n",
       "120% of MFI) \n",
       "104= Upper Income (> 120% \n",
       "of MFI) \n",
       "105= Income Not Known (0) \n",
       "106= Tract not Known (NA) \n",
       "Right justified with leading zeros \n",
       "or blank for totals</td></tr> \n",
       "<tr><td>report_level</td><td>text</td><td>Values are \n",
       "4= Total Inside & Outside \n",
       "Assessment Area (AA) \n",
       "(across all states) \n",
       "6= Total Inside AA \n",
       "(across all states) \n",
       "8= Total Outside AA \n",
       "(across all states) \n",
       "  10= State Total \n",
       "  20= Total Inside AA in State \n",
       "  30= Total Outside AA in State \n",
       "  40= County Total \n",
       "  50= Total Inside AA in County \n",
       "  60= Total Outside AA in County \n",
       "Right justified with leading zeros \n",
       "or blank if not a total</td></tr> \n",
       "<tr><td>num_orig_bus_lt100k</td><td>integer</td><td>Right justified with leading zeros</td></tr> \n",
       "<tr><td>tot_orig_bus_lt100k</td><td>integer</td><td>Amount is in thousands {e.g. 00000025 \n",
       "indicates $25,000); Right justified with \n",
       "leading zeros</td></tr> \n",
       "<tr><td>num_orig_bus_lt250k</td><td>integer</td><td>Right justified with leading zeros</td></tr> \n",
       "<tr><td>tot_orig_bus_gt100k_lt250k</td><td>integer</td><td>Amount is in thousands {e.g. 00000125 \n",
       "indicates $125,000); Right justified with \n",
       "leading zeros</td></tr> \n",
       "<tr><td>num_orig_bus_gt250k_lt1m</td><td>integer</td><td>Right justified with leading zeros</td></tr> \n",
       "<tr><td>tot_orig_bus_gt250k_lt1m</td><td>integer</td><td>Amount is in thousands {e.g. 00000300 \n",
       "indicates $300,000); Right justified with \n",
       "leading zeros</td></tr> \n",
       "<tr><td>num_orig_bus_lt1m</td><td>integer</td><td>Right justified with leading zeros</td></tr> \n",
       "<tr><td>tot_orig_bus_lt1m</td><td>integer</td><td>Amount is in thousands {e.g. 00000025 \n",
       "indicates $25,000); Right justified with \n",
       "leading zeros</td></tr> \n",
       "<tr><td>num_orig_bus_al</td><td>integer</td><td>Right justified with leading zeros</td></tr> \n",
       "<tr><td>tot_orig_bus_al</td><td>integer</td><td>Amount is in thousands {e.g. 00000025 \n",
       "indicates $25,000); Right justified with \n",
       "leading zeros</td></tr> </table>"
      ],
      "text/plain": [
       "<Resource: ffiec.gov-cra_disclosure_smb_orig-2010_2015-2.csv 30:1 root.datafile http://library.metatab.org/ffiec.gov-cra_disclosure_smb_orig-2010_2015-2/data/sb_loan_orig.csv ['sb_loan_orig', 'cra_disclosure', 'D1-1', 'Table D1-1, small business disclosire records, for years 2010 to 2015 inclusive']>"
      ]
     },
     "execution_count": 2,
     "metadata": {},
     "output_type": "execute_result"
    }
   ],
   "source": [
    "r = pkg.resource('sb_loan_orig')\n",
    "r\n"
   ]
  },
  {
   "cell_type": "markdown",
   "metadata": {},
   "source": [
    "The final step of access is to create a dataframe from the resource. This is really easy, just use the `.dataframe()` method. Note, however, for this dataset, it can take almost 10 minutes to create the whole dataframe, as the data file is very large. "
   ]
  },
  {
   "cell_type": "code",
   "execution_count": 3,
   "metadata": {},
   "outputs": [
    {
     "name": "stdout",
     "output_type": "stream",
     "text": [
      "CPU times: user 9min 7s, sys: 8.66 s, total: 9min 16s\n",
      "Wall time: 9min 36s\n"
     ]
    }
   ],
   "source": [
    "%%time\n",
    "df = r.dataframe()"
   ]
  },
  {
   "cell_type": "code",
   "execution_count": 4,
   "metadata": {},
   "outputs": [
    {
     "data": {
      "text/plain": [
       "4391391"
      ]
     },
     "execution_count": 4,
     "metadata": {},
     "output_type": "execute_result"
    }
   ],
   "source": [
    "len(df)"
   ]
  },
  {
   "cell_type": "code",
   "execution_count": null,
   "metadata": {
    "collapsed": true
   },
   "outputs": [],
   "source": []
  }
 ],
 "metadata": {
  "celltoolbar": "Tags",
  "kernelspec": {
   "display_name": "Python 3",
   "language": "python",
   "name": "python3"
  },
  "language_info": {
   "codemirror_mode": {
    "name": "ipython",
    "version": 3
   },
   "file_extension": ".py",
   "mimetype": "text/x-python",
   "name": "python",
   "nbconvert_exporter": "python",
   "pygments_lexer": "ipython3",
   "version": "3.6.1"
  },
  "varInspector": {
   "cols": {
    "lenName": 16,
    "lenType": 16,
    "lenVar": 40
   },
   "kernels_config": {
    "python": {
     "delete_cmd_postfix": "",
     "delete_cmd_prefix": "del ",
     "library": "var_list.py",
     "varRefreshCmd": "print(var_dic_list())"
    },
    "r": {
     "delete_cmd_postfix": ") ",
     "delete_cmd_prefix": "rm(",
     "library": "var_list.r",
     "varRefreshCmd": "cat(var_dic_list()) "
    }
   },
   "types_to_exclude": [
    "module",
    "function",
    "builtin_function_or_method",
    "instance",
    "_Feature"
   ],
   "window_display": false
  }
 },
 "nbformat": 4,
 "nbformat_minor": 2
}
