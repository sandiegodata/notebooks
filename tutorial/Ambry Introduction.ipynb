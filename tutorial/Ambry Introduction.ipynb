{
 "cells": [
  {
   "cell_type": "markdown",
   "metadata": {},
   "source": [
    "# Californa API Analysis Examples"
   ]
  },
  {
   "cell_type": "markdown",
   "metadata": {},
   "source": [
    "This IPython notebook is an example of using IPython and Ambry for analyzing Academic Performance Index scores for California, from 2000 to 2012. This data was extracted from the California Department of Education website and loaded into Ambry to create a single dataset that combines multiple years of data and harmonizes column names across the years. [An earlier version of this set](http://data.sandiegodata.org/dataset/cde_ca_gov-api-combined-429e-extract) can be downloaded from the San Diego Regional Data Library Data Repository, which also hosts the [documentation for the dataset](http://data.sandiegodata.org/storage/f/2013-11-05T211612/documentation.html). \n",
    "\n",
    "In this example, we will show how to get datasets from an Ambry library and perform some analysis using Pandas. \n",
    "\n",
    "\n"
   ]
  },
  {
   "cell_type": "markdown",
   "metadata": {},
   "source": [
    "## Getting Data With Ambry"
   ]
  },
  {
   "cell_type": "markdown",
   "metadata": {},
   "source": [
    "Ambry is a data library and package management system that makes it much easier for analysts to get data to use in their analysis. In these first cells, we will get a library objectand look for the API dataset. \n",
    "\n",
    "In this case, Ambry has been previously configured to connect to a remote Ambry library that hosts the dataset. \n",
    "\n",
    "First we will construct the interactive library using ilibrary() and search for files that have 'api' in the name. \n"
   ]
  },
  {
   "cell_type": "code",
   "execution_count": 1,
   "metadata": {
    "slideshow": {
     "slide_type": "slide"
    }
   },
   "outputs": [
    {
     "data": {
      "text/html": [
       "<table><tr><td>LS</td><td>d008002</td><td>cde.ca.gov-api-orig-0.1.2</td></tr>\n",
       "<tr><td>LS</td><td>d007004</td><td>cde.ca.gov-api-combined-0.1.4</td></tr>\n",
       "<tr><td>L</td><td>d007002</td><td>cde.ca.gov-api-combined-0.1.2</td></tr>\n",
       "<tr><td>L</td><td>d007003</td><td>cde.ca.gov-api-combined-0.1.3</td></tr>\n",
       "<tr><td>L</td><td>d007001</td><td>cde.ca.gov-api-combined-0.1.1</td></tr>\n",
       "<tr><td>L</td><td>d008001</td><td>cde.ca.gov-api-orig-0.1.1</td></tr></table>"
      ],
      "text/plain": [
       "<ambry.identity.IdentitySet at 0x111e6d890>"
      ]
     },
     "execution_count": 1,
     "metadata": {},
     "output_type": "execute_result"
    }
   ],
   "source": [
    "import ambry\n",
    "import pandas as pd\n",
    "l = ambry.ilibrary()\n",
    "l.find(name='api')"
   ]
  },
  {
   "cell_type": "markdown",
   "metadata": {},
   "source": [
    "The last line of the input cell, `l.find(name='api')` returns a list of records in a way that allows IPython to print it in HTML form. This is a frequently-used way to get more information about objects with using IPython Notebook. \n",
    "\n",
    "The find command looks for all of the records of datasets in the local library and displays the ones that have 'api' in the name. The first column of the output tells us where the data lives. 'SLR' means that the data is on the local machine as a Source package, in the Local librayr, and also in the Remote library. The second column is the unique, versioned id number. The last two items are the same dataset, but one is a later version than the other. \n",
    "\n",
    "Each of these datasets may be composed of multiple partitions, with each partition holding a part of a dataset, broken up by time, geographic location, or other factor. Now we will fetch one of the packages and look at what partitions are available. \n"
   ]
  },
  {
   "cell_type": "code",
   "execution_count": 2,
   "metadata": {},
   "outputs": [
    {
     "data": {
      "text/html": [
       "<table>\n",
       "<tr><td><strong>Identity</strong></td><td></td></tr>\n",
       "<tr><td align=\"right\">Vid</td><td>d007004</td></tr>\n",
       "<tr><td align=\"right\">Sname</td><td>cde.ca.gov-api-combined</td></tr>\n",
       "<tr><td align=\"right\">Vname</td><td>cde.ca.gov-api-combined-0.1.4</td></tr>\n",
       "<tr><td align=\"left\">Locations</td><td>L</td></tr>\n",
       "<tr><td><strong>Source</strong></td><td></td></tr>\n",
       "<tr><td align=\"right\">Db</td><td>/data/library/cde.ca.gov/api-combined-0.1.4.db</td></tr>\n",
       "<tr><td align=\"right\">Created</td><td></td></tr>\n",
       "<tr><td align=\"right\">Built</td><td>2014-04-06T17:13:57.724470</td></tr>\n",
       "<tr><td align=\"right\">Build_Time</td><td>268.45s</td></tr>\n",
       "<tr><td align=\"right\">Prepared</td><td>2014-04-06T17:09:29.127678</td></tr>\n",
       "<tr><td align=\"left\">Partitions</td><td>2</td></tr>\n",
       "</table>"
      ],
      "text/plain": [
       "<ambry.bundle.bundle.DbBundle at 0x111f02050>"
      ]
     },
     "execution_count": 2,
     "metadata": {},
     "output_type": "execute_result"
    }
   ],
   "source": [
    "b =  l.get('cde.ca.gov-api-combined-api_base')\n",
    "b\n"
   ]
  },
  {
   "cell_type": "markdown",
   "metadata": {},
   "source": [
    "When we asked for the dataset without a version number, Ambry selected the latest version and returned it. This object is also know as a \"Bundle\" since it provides the grouping for multiple partitions. On the last line we can see that this bundle has two partitions. "
   ]
  },
  {
   "cell_type": "code",
   "execution_count": 3,
   "metadata": {},
   "outputs": [
    {
     "data": {
      "text/html": [
       "<table>\n",
       "<tr><th>Id</th><th>Name</th><th>table</th></tr>\n",
       "<tr><td>p007001</td><td>cde.ca.gov-api-combined-api_base</td><td>api_base</td></tr>\n",
       "<tr><td>p007002</td><td>cde.ca.gov-api-combined-api_growth</td><td>api_growth</td></tr>\n",
       "</table>"
      ],
      "text/plain": [
       "<ambry.partitions.Partitions at 0x111edb350>"
      ]
     },
     "execution_count": 3,
     "metadata": {},
     "output_type": "execute_result"
    }
   ],
   "source": [
    "b.partitions"
   ]
  },
  {
   "cell_type": "markdown",
   "metadata": {},
   "source": [
    "One partition in the bundle is for the base API scores, and the other is for year-to-year growth in the scores. Let's get the base partition and examine it. If you print out the `p` object, you'll get information about the partition, but we'll focus on the main table in the partition. "
   ]
  },
  {
   "cell_type": "code",
   "execution_count": 4,
   "metadata": {},
   "outputs": [
    {
     "data": {
      "text/html": [
       "\n",
       "        <table>\n",
       "        <tr><th>Name</th><td>api_base</td></tr>\n",
       "        <tr><th>Id</th><td>t00701</td></tr>\n",
       "        <tr><th>Vid</th><td>t00701004</td></tr>\n",
       "        </table>\n",
       "        <table>\n",
       "<tr><th>#</th><th>Name</th><th>Datatype</th><th>description</th></tr>\n",
       "<tr><td>1</td><td>id</td><td>INTEGER</td><td></td></tr>\n",
       "<tr><td>2</td><td>year</td><td>INTEGER</td><td>School year , from original dataset</td></tr>\n",
       "<tr><td>3</td><td>cds</td><td>INTEGER64</td><td>County/District/School code</td></tr>\n",
       "<tr><td>4</td><td>stype</td><td>VARCHAR</td><td>Type: 1=Unified, 2=Elementary District, 3=9-12 High District, 4=7-12 High District, E=Elementary School, M=Middle School, H=High School</td></tr>\n",
       "<tr><td>5</td><td>sname</td><td>VARCHAR</td><td>School Name</td></tr>\n",
       "<tr><td>6</td><td>dname</td><td>VARCHAR</td><td>District Name</td></tr>\n",
       "<tr><td>7</td><td>cname</td><td>VARCHAR</td><td>County Name</td></tr>\n",
       "<tr><td>8</td><td>flag</td><td>INTEGER</td><td>Flag Values</td></tr>\n",
       "<tr><td>9</td><td>api</td><td>INTEGER</td><td>[This Year] API (Base)</td></tr>\n",
       "<tr><td>10</td><td>pct_test</td><td>INTEGER</td><td>Percentage of Students Tested</td></tr>\n",
       "<tr><td>11</td><td>valid_num</td><td>INTEGER</td><td>Number of Students Included in the [This Year] Academic Performance Index (API)</td></tr>\n",
       "<tr><td>12</td><td>st_rank</td><td>INTEGER</td><td>Statewide Rank (I=Invalid data, B=District or ASAM, C=Special Education School . )</td></tr>\n",
       "<tr><td>13</td><td>sum_rank</td><td>VARCHAR</td><td>Similar Schools Rank</td></tr>\n",
       "<tr><td>14</td><td>gr_targ</td><td>INTEGER</td><td>[Next Year Range] API Growth Target (A=means the school or student group scored at or above the statewide performance target of 800 in [This Year], B=This is an LEA, C=means this is a special education school.)</td></tr>\n",
       "<tr><td>15</td><td>api_targ</td><td>INTEGER</td><td>[Next Year] API Target (A=means the school or student group scored at or above the statewide performance target of 800 in [This Year], B=This is an LEA, C=means this is a special education school.)</td></tr>\n",
       "<tr><td>16</td><td>aa_num</td><td>INTEGER</td><td>Number of Black or African Americans Included in API</td></tr>\n",
       "<tr><td>17</td><td>aa_sig</td><td>VARCHAR</td><td>Black or African Americans Significant?(Yes/No)</td></tr>\n",
       "<tr><td>18</td><td>aa_api</td><td>INTEGER</td><td>[This Year] Black or African American API (Base)</td></tr>\n",
       "<tr><td>19</td><td>aa_gt</td><td>INTEGER</td><td>[Next Year Range] Black or African American student group Growth Target</td></tr>\n",
       "<tr><td>20</td><td>aa_targ</td><td>INTEGER</td><td>[Next Year] Black or African American student group API Target</td></tr>\n",
       "<tr><td>21</td><td>ai_num</td><td>INTEGER</td><td>Number of American Indian/Alaska Native Included in API</td></tr>\n",
       "<tr><td>22</td><td>ai_sig</td><td>VARCHAR</td><td>American Indian/Alaska Native Significant?(Yes/No)</td></tr>\n",
       "<tr><td>23</td><td>ai_api</td><td>INTEGER</td><td>[This Year] American Indian/Alaska Native API (Base)</td></tr>\n",
       "<tr><td>24</td><td>ai_gt</td><td>INTEGER</td><td>[Next Year Range] American Indian/Alaska Native student group Growth Target</td></tr>\n",
       "<tr><td>25</td><td>ai_targ</td><td>INTEGER</td><td>[Next Year] American Indian/Alaska Native student group API Target</td></tr>\n",
       "<tr><td>26</td><td>as_num</td><td>INTEGER</td><td>Number of Asian Included in API</td></tr>\n",
       "<tr><td>27</td><td>as_sig</td><td>VARCHAR</td><td>Asian Significant?(Yes/No)</td></tr>\n",
       "<tr><td>28</td><td>as_api</td><td>INTEGER</td><td>[This Year] Asian API (Base)</td></tr>\n",
       "<tr><td>29</td><td>as_gt</td><td>INTEGER</td><td>[Next Year Range] Asian student group Growth Target</td></tr>\n",
       "<tr><td>30</td><td>as_targ</td><td>INTEGER</td><td>[Next Year] Asian student group API Target</td></tr>\n",
       "<tr><td>31</td><td>fi_num</td><td>INTEGER</td><td>Number of Filipino Included in API</td></tr>\n",
       "<tr><td>32</td><td>fi_sig</td><td>VARCHAR</td><td>Filipino Significant?(Yes/No)</td></tr>\n",
       "<tr><td>33</td><td>fi_api</td><td>INTEGER</td><td>[This Year] Filipino API (Base)</td></tr>\n",
       "<tr><td>34</td><td>fi_gt</td><td>INTEGER</td><td>[Next Year Range] Filipino student group Growth Target</td></tr>\n",
       "<tr><td>35</td><td>fi_targ</td><td>INTEGER</td><td>[Next Year] Filipino student group API Target</td></tr>\n",
       "<tr><td>36</td><td>hi_num</td><td>INTEGER</td><td>Number of Hispanic or Latino included in API</td></tr>\n",
       "<tr><td>37</td><td>hi_sig</td><td>VARCHAR</td><td>Hispanic or Latino Significant?(Yes/No)</td></tr>\n",
       "<tr><td>38</td><td>hi_api</td><td>INTEGER</td><td>[This Year] Hispanic or Latino API (Base)</td></tr>\n",
       "<tr><td>39</td><td>hi_gt</td><td>INTEGER</td><td>[Next Year Range]Hispanic or Latino student group Growth Target</td></tr>\n",
       "<tr><td>40</td><td>hi_targ</td><td>INTEGER</td><td>[Next Year] Hispanic or Latino student group API Target</td></tr>\n",
       "<tr><td>41</td><td>pi_num</td><td>INTEGER</td><td>Number of Native Hawaiian/Pacific Islander Included in API</td></tr>\n",
       "<tr><td>42</td><td>pi_sig</td><td>VARCHAR</td><td>Native Hawaiian/Pacific Islander Significant?(Yes/No)</td></tr>\n",
       "<tr><td>43</td><td>pi_api</td><td>INTEGER</td><td>[This Year] Native Hawaiian/Pacific Islander API (Base)</td></tr>\n",
       "<tr><td>44</td><td>pi_gt</td><td>INTEGER</td><td>[Next Year Range] Native Hawaiian/Pacific Islander student group Growth Target</td></tr>\n",
       "<tr><td>45</td><td>pi_targ</td><td>INTEGER</td><td>[Next Year] student group Native Hawaiian/Pacific Islander API Target</td></tr>\n",
       "<tr><td>46</td><td>wh_num</td><td>INTEGER</td><td>Number of White included in API</td></tr>\n",
       "<tr><td>47</td><td>wh_sig</td><td>VARCHAR</td><td>White Significant?(Yes/No)</td></tr>\n",
       "<tr><td>48</td><td>wh_api</td><td>INTEGER</td><td>[This Year] White API (Base)</td></tr>\n",
       "<tr><td>49</td><td>wh_gt</td><td>INTEGER</td><td>[Next Year Range] White student group Growth Target</td></tr>\n",
       "<tr><td>50</td><td>wh_targ</td><td>INTEGER</td><td>[Next Year] White API Target</td></tr>\n",
       "<tr><td>51</td><td>sd_num</td><td>INTEGER</td><td>Number of Socioeconomically Disadvantaged (SD) Students Included in API</td></tr>\n",
       "<tr><td>52</td><td>sd_sig</td><td>VARCHAR</td><td>Socioeconomically Disadvantaged Significant?(Yes/No)</td></tr>\n",
       "<tr><td>53</td><td>sd_api</td><td>INTEGER</td><td>[This Year] Socioeconomically Disadvantaged API (Base)</td></tr>\n",
       "<tr><td>54</td><td>sd_gt</td><td>INTEGER</td><td>[Next Year Range] Socioeconomically Disadvantaged student group Growth Target</td></tr>\n",
       "<tr><td>55</td><td>sd_targ</td><td>INTEGER</td><td>[Next Year] Socioeconomically Disadvantaged API Target</td></tr>\n",
       "<tr><td>56</td><td>pct_aa</td><td>INTEGER</td><td>Percent Black or African American</td></tr>\n",
       "<tr><td>57</td><td>pct_ai</td><td>INTEGER</td><td>Percent American Indian</td></tr>\n",
       "<tr><td>58</td><td>pct_as</td><td>INTEGER</td><td>Percent Asian</td></tr>\n",
       "<tr><td>59</td><td>pct_fi</td><td>INTEGER</td><td>Percent Filipino</td></tr>\n",
       "<tr><td>60</td><td>pct_hi</td><td>INTEGER</td><td>Percent Hispanic or Latino</td></tr>\n",
       "<tr><td>61</td><td>pct_pi</td><td>INTEGER</td><td>Percent Native Hawaiian/Pacific Islander</td></tr>\n",
       "<tr><td>62</td><td>pct_wh</td><td>INTEGER</td><td>Percent White</td></tr>\n",
       "<tr><td>63</td><td>meals</td><td>INTEGER</td><td>Percentage of Students Tested that are eligible for Free or Reduced Price Lunch Program</td></tr>\n",
       "<tr><td>64</td><td>ell</td><td>INTEGER</td><td>Percent English Language Learners</td></tr>\n",
       "<tr><td>65</td><td>yr_rnd</td><td>VARCHAR</td><td>Year Round School</td></tr>\n",
       "<tr><td>66</td><td>mobility</td><td>INTEGER</td><td>Percentage of Students Who First Attended this School in the Present Year</td></tr>\n",
       "<tr><td>67</td><td>acs_k3</td><td>INTEGER</td><td>Average Class Size (Grades K-3)</td></tr>\n",
       "<tr><td>68</td><td>acs_46</td><td>INTEGER</td><td>Average Class Size (Grades 4-6)</td></tr>\n",
       "<tr><td>69</td><td>acs_core</td><td>INTEGER</td><td>Number of Core Academic Courses</td></tr>\n",
       "<tr><td>70</td><td>pct_resp</td><td>INTEGER</td><td>Percent of Student Answer Documents with Parent Education Level Information</td></tr>\n",
       "<tr><td>71</td><td>not_hsg</td><td>INTEGER</td><td>Parent Education Level: Percent Not High School Graduate</td></tr>\n",
       "<tr><td>72</td><td>hsg</td><td>INTEGER</td><td>Parent Education Level: Percent High School Graduate</td></tr>\n",
       "<tr><td>73</td><td>some_col</td><td>INTEGER</td><td>Parent Education Level: Percent Some College</td></tr>\n",
       "<tr><td>74</td><td>col_grad</td><td>INTEGER</td><td>Parent Education Level: Percent College Graduate</td></tr>\n",
       "<tr><td>75</td><td>grad_sch</td><td>INTEGER</td><td>Parent Education Level: Percent Graduate School</td></tr>\n",
       "<tr><td>76</td><td>avg_ed</td><td>REAL</td><td>Average Parent Education Level</td></tr>\n",
       "<tr><td>77</td><td>full</td><td>INTEGER</td><td>Percent Teachers at this school with Full Credentials</td></tr>\n",
       "<tr><td>78</td><td>emer</td><td>INTEGER</td><td>Percent Teachers at this school with Emergency Credentials</td></tr>\n",
       "<tr><td>79</td><td>enroll</td><td>INTEGER</td><td>Number of Students Enrolled on the First Day of Testing for Grades 2-11</td></tr>\n",
       "<tr><td>80</td><td>iep</td><td>INTEGER</td><td>Number of Students Excused from Testing by Individualized Education Program Statement</td></tr>\n",
       "<tr><td>81</td><td>parent_opt</td><td>INTEGER</td><td>Number of Students Excused from Testing by Parental Written Request</td></tr>\n",
       "<tr><td>82</td><td>tested</td><td>INTEGER</td><td>Number of Students Tested on STAR</td></tr>\n",
       "<tr><td>83</td><td>sci</td><td>REAL</td><td>School Characteristic Index</td></tr>\n",
       "<tr><td>84</td><td>sim_rank</td><td>INTEGER</td><td>Similar Schools Rank (I=Invalid data, B=District or ASAM, C=Special Education School, O=Schools with SCI changed because of data change, but similar school ranks not changed, S - Schools whose SCI changed and their Similar School Ranks also changed. Blank=The school had less than 100 valid test scores, therefore it does not receive an SCI score.)</td></tr>\n",
       "<tr><td>85</td><td>el</td><td>INTEGER</td><td>Percent English Learners</td></tr>\n",
       "<tr><td>86</td><td>small</td><td>VARCHAR</td><td>S=Small School, Blank=Not a Small School</td></tr>\n",
       "<tr><td>87</td><td>smob</td><td>INTEGER</td><td>Percentage of Students Who First Attended this School in the Present Year</td></tr>\n",
       "<tr><td>88</td><td>dmob</td><td>INTEGER</td><td>Percentage of Students counted as part of district enrollment in the October [Last Year] Fall census and has been continuously enrolled since that date</td></tr>\n",
       "<tr><td>89</td><td>rtype</td><td>VARCHAR</td><td>Record Type: (D=District, S=School, X=State)</td></tr>\n",
       "<tr><td>90</td><td>capam</td><td>INTEGER</td><td>Students marked as taking the California Alternate Performance Assessment (CAPA)</td></tr>\n",
       "<tr><td>91</td><td>capat</td><td>INTEGER</td><td>Number of Students Tested on CAPA</td></tr>\n",
       "<tr><td>92</td><td>cbmob</td><td>INTEGER</td><td>Percentage of Students counted as part of school enrollment in the October [Last Year] Fall census and has been continuously enrolled since that date</td></tr>\n",
       "<tr><td>93</td><td>dfc</td><td>VARCHAR</td><td>Direct Funded Charter Y=Yes, N=No</td></tr>\n",
       "<tr><td>94</td><td>vcst_e28</td><td>INTEGER</td><td>Valid Score for California Standards Test (CST) in English-language arts Grades 2-8</td></tr>\n",
       "<tr><td>95</td><td>pcst_e28</td><td>REAL</td><td>Product of Test Weights Multiplied by Valid scores for CST in English-language arts Grades 2-8</td></tr>\n",
       "<tr><td>96</td><td>vcst_e911</td><td>INTEGER</td><td>Valid Score for CST in English-language arts Grades 9-11</td></tr>\n",
       "<tr><td>97</td><td>pcst_e911</td><td>REAL</td><td>Product of Test Weights Multiplied by Valid scores for CST in English-language arts Grades 9-11</td></tr>\n",
       "<tr><td>98</td><td>cw_cste</td><td>REAL</td><td>School Content Area Weights Percentage in CST English-language arts</td></tr>\n",
       "<tr><td>99</td><td>vcst_m28</td><td>INTEGER</td><td>Valid Score for CST in mathematics Grades 2-8</td></tr>\n",
       "<tr><td>100</td><td>pcst_m28</td><td>REAL</td><td>Product of Test Weights Multiplied by Valid scores for CST in mathematics Grades 2-8</td></tr>\n",
       "<tr><td>101</td><td>vcst_m911</td><td>INTEGER</td><td>Valid Score for CST in mathematics Grades 9-11</td></tr>\n",
       "<tr><td>102</td><td>pcst_m911</td><td>REAL</td><td>Product of Test Weights Multiplied by Valid scores for CST in mathematics Grades 9-11</td></tr>\n",
       "<tr><td>103</td><td>cw_cstm</td><td>REAL</td><td>School Content Area Weights Percentage in CST mathematics</td></tr>\n",
       "<tr><td>104</td><td>vcst_s28</td><td>INTEGER</td><td>Valid Score for CST in science Grades 2-8</td></tr>\n",
       "<tr><td>105</td><td>pcst_s28</td><td>REAL</td><td>Product of Test Weights Multiplied by Valid scores for CST in science Grades 2-8</td></tr>\n",
       "<tr><td>106</td><td>vcst_s911</td><td>INTEGER</td><td>Valid Score for CST in science Grades 9-11 (End of Course, CST )</td></tr>\n",
       "<tr><td>107</td><td>pcst_s911</td><td>REAL</td><td>Product of Test Weights Multiplied by Valid scores for CST in science Grades 9-11 (End of Course, CST )</td></tr>\n",
       "<tr><td>108</td><td>cw_csts</td><td>REAL</td><td>School Content Area Weights Percentage in CST science</td></tr>\n",
       "<tr><td>109</td><td>vcst_h28</td><td>INTEGER</td><td>Valid Score for CST in history-social science Grades 2-8</td></tr>\n",
       "<tr><td>110</td><td>pcst_h28</td><td>REAL</td><td>Product of Test Weights Multiplied by Valid scores for CST in history-social science Grades 2-8</td></tr>\n",
       "<tr><td>111</td><td>vcst_h911</td><td>INTEGER</td><td>Valid Score for CST in history-social science Grades 9-11</td></tr>\n",
       "<tr><td>112</td><td>pcst_h911</td><td>REAL</td><td>Product of Test Weights Multiplied by Valid scores for CST in history-social science Grades 9-11</td></tr>\n",
       "<tr><td>113</td><td>cw_csth</td><td>REAL</td><td>School Content Area Weights Percentage in CST history-social science</td></tr>\n",
       "<tr><td>114</td><td>vnrt_r28</td><td>INTEGER</td><td>Valid Score for Norm-Referenced Test (NRT) Reading in Grades 2-8</td></tr>\n",
       "<tr><td>115</td><td>pnrt_r28</td><td>REAL</td><td>Product of Test Weights Multiplied by Valid scores for NRT Reading in Grades 2-8</td></tr>\n",
       "<tr><td>116</td><td>cw_nrtr</td><td>REAL</td><td>School Content Area Weights Percentage in NRT Reading</td></tr>\n",
       "<tr><td>117</td><td>vnrt_l28</td><td>INTEGER</td><td>Valid Score for NRT Language in Grades 2-8</td></tr>\n",
       "<tr><td>118</td><td>pnrt_l28</td><td>REAL</td><td>Product of Test Weights Multiplied by Valid scores for NRT Language in Grades 2-8</td></tr>\n",
       "<tr><td>119</td><td>cw_nrtl</td><td>REAL</td><td>School Content Area Weights Percentage in NRT Language</td></tr>\n",
       "<tr><td>120</td><td>vnrt_s28</td><td>INTEGER</td><td>Valid Score for NRT Spelling in Grades 2-8</td></tr>\n",
       "<tr><td>121</td><td>pnrt_s28</td><td>REAL</td><td>Product of Test Weights Multiplied by Valid scores for NRT Spelling in Grades 2-8</td></tr>\n",
       "<tr><td>122</td><td>cw_nrts</td><td>REAL</td><td>School Content Area Weights Percentage in NRT Spelling</td></tr>\n",
       "<tr><td>123</td><td>vnrt_m28</td><td>INTEGER</td><td>Valid Score for NRT Mathematics in Grades 2-8</td></tr>\n",
       "<tr><td>124</td><td>pnrt_m28</td><td>REAL</td><td>Product of Test Weights Multiplied by Valid scores for NRT Mathematics in Grades 2-8</td></tr>\n",
       "<tr><td>125</td><td>cw_nrtm</td><td>REAL</td><td>School Content Area Weights Percentage in NRT Mathematics</td></tr>\n",
       "<tr><td>126</td><td>vchs_e911</td><td>INTEGER</td><td>Valid Score for California High School Exit Exam (CAHSEE) ELA in Grades 9-11</td></tr>\n",
       "<tr><td>127</td><td>pchs_e911</td><td>REAL</td><td>Product of Test Weights Multiplied by Valid scores for CAHSEE ELA in Grades 9-11</td></tr>\n",
       "<tr><td>128</td><td>cw_chse</td><td>REAL</td><td>School Content Area Weights Percentage in CAHSEE ELA</td></tr>\n",
       "<tr><td>129</td><td>vchs_m911</td><td>INTEGER</td><td>Valid Score for CAHSEE mathematics in Grades 9-11</td></tr>\n",
       "<tr><td>130</td><td>pchs_m911</td><td>REAL</td><td>Product of Test Weights Multiplied by Valid scores for CAHSEE mathematics in Grades 9-11</td></tr>\n",
       "<tr><td>131</td><td>cw_chsm</td><td>REAL</td><td>School Content Area Weights Percentage in CAHSEE mathematics</td></tr>\n",
       "<tr><td>132</td><td>tot_28</td><td>REAL</td><td>Product of Total of Test Weights Multiplied by Total of Valid scores in Grades 2-8</td></tr>\n",
       "<tr><td>133</td><td>tot_911</td><td>REAL</td><td>Product of Total of Test Weights Multiplied by Total of Valid scores in Grades 9-11</td></tr>\n",
       "<tr><td>134</td><td>sped</td><td>VARCHAR</td><td>A=Alternative Schools Accountability Model (ASAM), E=Special Education, and C=Combination ASAM and Special Education, S=State Special Schools</td></tr>\n",
       "<tr><td>135</td><td>size</td><td>VARCHAR</td><td>S=Small (11-99 Valid Scores), T=Under 11 Valid Scores</td></tr>\n",
       "<tr><td>136</td><td>charter</td><td>VARCHAR</td><td>Y=Charter, Not Direct Funded, D=Direct Funded Charter, Blank=Not a Charter School</td></tr>\n",
       "<tr><td>137</td><td>el_num</td><td>INTEGER</td><td>Number of English Learner Students Included in API</td></tr>\n",
       "<tr><td>138</td><td>el_sig</td><td>VARCHAR</td><td>English Learner Significant?(Yes/No)</td></tr>\n",
       "<tr><td>139</td><td>el_api</td><td>INTEGER</td><td>[This Year] English Learner API (Base)</td></tr>\n",
       "<tr><td>140</td><td>el_gt</td><td>INTEGER</td><td>[Next Year Range] English Learner student group Growth Target</td></tr>\n",
       "<tr><td>141</td><td>el_targ</td><td>INTEGER</td><td>[Next Year] English Learner API Target</td></tr>\n",
       "<tr><td>142</td><td>di_num</td><td>INTEGER</td><td>Number of Students with Disabilities Included in API</td></tr>\n",
       "<tr><td>143</td><td>di_sig</td><td>VARCHAR</td><td>Students with Disabilities Significant?(Yes/No)</td></tr>\n",
       "<tr><td>144</td><td>di_api</td><td>INTEGER</td><td>[This Year] Students with Disabilities API (Base)</td></tr>\n",
       "<tr><td>145</td><td>di_gt</td><td>INTEGER</td><td>[Next Year Range] Students with Disabilities student group Growth Target</td></tr>\n",
       "<tr><td>146</td><td>di_targ</td><td>INTEGER</td><td>[Next Year] Students with Disabilities API Target</td></tr>\n",
       "<tr><td>147</td><td>p_fday</td><td>INTEGER</td><td>Percent of participants in full day Reduced Class Size Program (Standardized Testing and Reporting or STAR)</td></tr>\n",
       "<tr><td>148</td><td>p_gate</td><td>INTEGER</td><td>Percent of participants in Gifted and Talented education programs (STAR)</td></tr>\n",
       "<tr><td>149</td><td>p_miged</td><td>INTEGER</td><td>Percent of participants in migrant education programs (STAR)</td></tr>\n",
       "<tr><td>150</td><td>p_el</td><td>INTEGER</td><td>Percent English Learners</td></tr>\n",
       "<tr><td>151</td><td>p_rfep</td><td>INTEGER</td><td>Percent of Reclassified Fluent-English-Proficient (RFEP) students (STAR)</td></tr>\n",
       "<tr><td>152</td><td>p_di</td><td>INTEGER</td><td>Percent of Students with Disabilities (STAR)</td></tr>\n",
       "<tr><td>153</td><td>pen_2</td><td>INTEGER</td><td>Percent of Enrollments in grade 2 (STAR)</td></tr>\n",
       "<tr><td>154</td><td>pen_35</td><td>INTEGER</td><td>Percent of Enrollments in grades 3-5 (STAR)</td></tr>\n",
       "<tr><td>155</td><td>pen_6</td><td>INTEGER</td><td>Percent of Enrollments in grade 6 (STAR)</td></tr>\n",
       "<tr><td>156</td><td>pen_78</td><td>INTEGER</td><td>Percent of Enrollments in grades 7-8 (STAR)</td></tr>\n",
       "<tr><td>157</td><td>pen_911</td><td>INTEGER</td><td>Percent of Enrollments in grades 9-11 (STAR)</td></tr>\n",
       "<tr><td>158</td><td>valid</td><td>INTEGER</td><td>Number of Students Included in the [This Year] Academic Performance Index (API)</td></tr>\n",
       "<tr><td>159</td><td>cw_ls10</td><td>REAL</td><td>School Content Area Weights Percentage in CST Life Science Grade 10 only</td></tr>\n",
       "<tr><td>160</td><td>vcst_ls10</td><td>INTEGER</td><td>Valid Score for CST in Life Science Grade 10 only</td></tr>\n",
       "<tr><td>161</td><td>pcst_ls10</td><td>REAL</td><td>Product of Test Weights Multiplied by Valid scores for CST in Life Science Grade 10 only</td></tr>\n",
       "<tr><td>162</td><td>cwm2_28</td><td>REAL</td><td>School Content Area Weights Percentage for Mathematics Assignment of 200 CST in grades 2-8</td></tr>\n",
       "<tr><td>163</td><td>vcstm2_28</td><td>INTEGER</td><td>Valid Score for Mathematics Assignment of 200 CST in Grades 2-8</td></tr>\n",
       "<tr><td>164</td><td>pcstm2_28</td><td>REAL</td><td>Product of Test Weights Multiplied by Valid scores for Mathematics Assignment of 200 CST in Grades 2-8</td></tr>\n",
       "<tr><td>165</td><td>cwm2_911</td><td>REAL</td><td>School Content Area Weights Percentage for Mathematics Assignment of 200 CST in grades 9-11</td></tr>\n",
       "<tr><td>166</td><td>vcstm2_911</td><td>INTEGER</td><td>Valid Score for Mathematics Assignment of 200 CST in Grades 9-11</td></tr>\n",
       "<tr><td>167</td><td>pcstm2_911</td><td>REAL</td><td>Product of Test Weights Multiplied by Valid scores for Mathematics Assignment of 200 CST in Grades 9-11</td></tr>\n",
       "<tr><td>168</td><td>cws2_911</td><td>REAL</td><td>School Content Area Weights Percentage for Science Assignment of 200 CST in grades 9-11</td></tr>\n",
       "<tr><td>169</td><td>vcsts2_911</td><td>INTEGER</td><td>Valid Score for Science Assignment of 200 CST in Grades 9-11</td></tr>\n",
       "<tr><td>170</td><td>pcsts2_911</td><td>REAL</td><td>Product of Test Weights Multiplied by Valid scores for Science Assignment of 200 CST in Grades 9-11</td></tr>\n",
       "<tr><td>171</td><td>irg5</td><td>VARCHAR</td><td>Testing irregularities greater than zero but less than 5 percent. (Y=Yes)</td></tr>\n",
       "<tr><td>172</td><td>cws_911</td><td>REAL</td><td>School Content Area Weights Percentage in CST science (End of Course, CST )</td></tr>\n",
       "<tr><td>173</td><td>cw_sci</td><td>REAL</td><td>School Content Area Weights Percentage in CST Life Science Grade 10 and Grades 2-8</td></tr>\n",
       "<tr><td>174</td><td>cma_adj</td><td>INTEGER</td><td>The number of valid records excluded for any of the content areas due to the CMA adjustment.</td></tr>\n",
       "<tr><td>175</td><td>cma_adj_ela</td><td>INTEGER</td><td>The number of valid ELA records excluded for any of the content areas due to the CMA adjustment, Grades 10 & 11</td></tr>\n",
       "<tr><td>176</td><td>cma_adj_math</td><td>INTEGER</td><td>The number of valid Math records excluded for any of the content areas due to the CMA adjustment, Grades 8-11</td></tr>\n",
       "<tr><td>177</td><td>cma_adj_sci</td><td>INTEGER</td><td>The number of valid Science records excluded for any of the content areas due to the CMA adjustment, Grade 10</td></tr>\n",
       "<tr><td>178</td><td>mr_num</td><td>INTEGER</td><td>Number of students who marked 'Two or More Races' included in API</td></tr>\n",
       "<tr><td>179</td><td>mr_sig</td><td>VARCHAR</td><td>'Two or More Races' Significant?(Yes/No)</td></tr>\n",
       "<tr><td>180</td><td>mr_api</td><td>INTEGER</td><td>[This Year] 'Two or More Races' API (Base)</td></tr>\n",
       "<tr><td>181</td><td>mr_gt</td><td>INTEGER</td><td>[Next Year Range] 'Two or More Races' Growth Target</td></tr>\n",
       "<tr><td>182</td><td>mr_targ</td><td>INTEGER</td><td>[Next Year] 'Two or More Races' API Target</td></tr>\n",
       "<tr><td>183</td><td>pct_mr</td><td>INTEGER</td><td>Percent 'Two or More Races'</td></tr>\n",
       "</table>"
      ],
      "text/plain": [
       "<ambry.orm.Table at 0x112017b90>"
      ]
     },
     "execution_count": 4,
     "metadata": {},
     "output_type": "execute_result"
    }
   ],
   "source": [
    "p = l.get('cde.ca.gov-api-combined-api_base').partition\n",
    "assert(p.identity.on.revision >= 2)\n",
    "p.table\n"
   ]
  },
  {
   "cell_type": "markdown",
   "metadata": {},
   "source": [
    "Displaying the table presents information about the table and the whole table schema. Now we can use that schema to construct a query, load the data into a Pandas data frame and do some analysis. "
   ]
  },
  {
   "cell_type": "markdown",
   "metadata": {},
   "source": [
    "## Analyzing Data"
   ]
  },
  {
   "cell_type": "code",
   "execution_count": 5,
   "metadata": {
    "slideshow": {
     "slide_type": "subslide"
    }
   },
   "outputs": [
    {
     "data": {
      "text/html": [
       "<div style=\"max-height:1000px;max-width:1500px;overflow:auto;\">\n",
       "<table border=\"1\" class=\"dataframe\">\n",
       "  <thead>\n",
       "    <tr style=\"text-align: right;\">\n",
       "      <th></th>\n",
       "      <th>cds</th>\n",
       "      <th>year</th>\n",
       "      <th>api</th>\n",
       "      <th>valid</th>\n",
       "      <th>aa_num</th>\n",
       "      <th>pct_aa</th>\n",
       "      <th>aa_api</th>\n",
       "      <th>wh_num</th>\n",
       "      <th>pct_wh</th>\n",
       "      <th>wh_api</th>\n",
       "      <th>hi_num</th>\n",
       "      <th>pct_hi</th>\n",
       "      <th>hi_api</th>\n",
       "      <th>as_num</th>\n",
       "      <th>pct_as</th>\n",
       "      <th>as_api</th>\n",
       "      <th>el</th>\n",
       "    </tr>\n",
       "  </thead>\n",
       "  <tbody>\n",
       "    <tr>\n",
       "      <th>0</th>\n",
       "      <td> 1611190130229</td>\n",
       "      <td> 2000</td>\n",
       "      <td> 731</td>\n",
       "      <td> 1090</td>\n",
       "      <td>  39</td>\n",
       "      <td>  4</td>\n",
       "      <td> NaN</td>\n",
       "      <td> 414</td>\n",
       "      <td> 38</td>\n",
       "      <td> 760</td>\n",
       "      <td> 96</td>\n",
       "      <td>  9</td>\n",
       "      <td>NaN</td>\n",
       "      <td> 414</td>\n",
       "      <td> 38</td>\n",
       "      <td> 749</td>\n",
       "      <td> 16</td>\n",
       "    </tr>\n",
       "    <tr>\n",
       "      <th>1</th>\n",
       "      <td> 1611190132878</td>\n",
       "      <td> 2000</td>\n",
       "      <td> 622</td>\n",
       "      <td>  840</td>\n",
       "      <td> 160</td>\n",
       "      <td> 23</td>\n",
       "      <td> 528</td>\n",
       "      <td> 191</td>\n",
       "      <td> 23</td>\n",
       "      <td> 734</td>\n",
       "      <td> 92</td>\n",
       "      <td> 11</td>\n",
       "      <td>NaN</td>\n",
       "      <td> 195</td>\n",
       "      <td> 21</td>\n",
       "      <td> 642</td>\n",
       "      <td> 18</td>\n",
       "    </tr>\n",
       "    <tr>\n",
       "      <th>2</th>\n",
       "      <td> 1611196000004</td>\n",
       "      <td> 2000</td>\n",
       "      <td> 622</td>\n",
       "      <td>  472</td>\n",
       "      <td> 138</td>\n",
       "      <td> 31</td>\n",
       "      <td> 555</td>\n",
       "      <td>  90</td>\n",
       "      <td> 19</td>\n",
       "      <td> 714</td>\n",
       "      <td> 62</td>\n",
       "      <td> 13</td>\n",
       "      <td>NaN</td>\n",
       "      <td>  75</td>\n",
       "      <td> 15</td>\n",
       "      <td> 672</td>\n",
       "      <td> 25</td>\n",
       "    </tr>\n",
       "    <tr>\n",
       "      <th>3</th>\n",
       "      <td> 1611196090005</td>\n",
       "      <td> 2000</td>\n",
       "      <td> 774</td>\n",
       "      <td>  272</td>\n",
       "      <td>  16</td>\n",
       "      <td>  7</td>\n",
       "      <td> NaN</td>\n",
       "      <td>  61</td>\n",
       "      <td> 24</td>\n",
       "      <td> 781</td>\n",
       "      <td> 21</td>\n",
       "      <td>  7</td>\n",
       "      <td>NaN</td>\n",
       "      <td> 104</td>\n",
       "      <td> 38</td>\n",
       "      <td> 813</td>\n",
       "      <td> 26</td>\n",
       "    </tr>\n",
       "    <tr>\n",
       "      <th>4</th>\n",
       "      <td> 1611196090013</td>\n",
       "      <td> 2000</td>\n",
       "      <td> 811</td>\n",
       "      <td>  216</td>\n",
       "      <td>   6</td>\n",
       "      <td>  3</td>\n",
       "      <td> NaN</td>\n",
       "      <td> 128</td>\n",
       "      <td> 59</td>\n",
       "      <td> 851</td>\n",
       "      <td> 19</td>\n",
       "      <td>  9</td>\n",
       "      <td>NaN</td>\n",
       "      <td>  17</td>\n",
       "      <td>  7</td>\n",
       "      <td> NaN</td>\n",
       "      <td>  9</td>\n",
       "    </tr>\n",
       "  </tbody>\n",
       "</table>\n",
       "<p>5 rows × 17 columns</p>\n",
       "</div>"
      ],
      "text/plain": [
       "             cds  year  api  valid  aa_num  pct_aa  aa_api  wh_num  pct_wh  \\\n",
       "0  1611190130229  2000  731   1090      39       4     NaN     414      38   \n",
       "1  1611190132878  2000  622    840     160      23     528     191      23   \n",
       "2  1611196000004  2000  622    472     138      31     555      90      19   \n",
       "3  1611196090005  2000  774    272      16       7     NaN      61      24   \n",
       "4  1611196090013  2000  811    216       6       3     NaN     128      59   \n",
       "\n",
       "   wh_api  hi_num  pct_hi  hi_api  as_num  pct_as  as_api  el  \n",
       "0     760      96       9     NaN     414      38     749  16  \n",
       "1     734      92      11     NaN     195      21     642  18  \n",
       "2     714      62      13     NaN      75      15     672  25  \n",
       "3     781      21       7     NaN     104      38     813  26  \n",
       "4     851      19       9     NaN      17       7     NaN   9  \n",
       "\n",
       "[5 rows x 17 columns]"
      ]
     },
     "execution_count": 5,
     "metadata": {},
     "output_type": "execute_result"
    }
   ],
   "source": [
    "q = \"\"\"\n",
    "SELECT \n",
    "cds, year, api, valid, \n",
    "aa_num, pct_aa,  aa_api, \n",
    "wh_num,  pct_wh, wh_api,\n",
    "hi_num,  pct_hi, hi_api,\n",
    "as_num,  pct_as, as_api,\n",
    "el\n",
    "FROM api_base \n",
    "---WHERE wh_sig = 'Yes' AND aa_sig = 'Yes'\n",
    "\"\"\"\n",
    "\n",
    "df = p.select(q).pandas\n",
    "df.head()"
   ]
  },
  {
   "cell_type": "markdown",
   "metadata": {},
   "source": [
    "Ambry datasets are stored in Sqlite, a complete SQL database system, so you can run standard SQL queries to extract data. If you don't want to use SQL, you can omit the query to get the whole dataset into Pandas, but this can consume a lot of memory. \n",
    "\n",
    "Now that we've extracted some data, we'll convert the Pandas Dataframe into a Time-series panel so we can analyze school performance across multiple years. "
   ]
  },
  {
   "cell_type": "code",
   "execution_count": 6,
   "metadata": {},
   "outputs": [
    {
     "data": {
      "text/html": [
       "<div style=\"max-height:1000px;max-width:1500px;overflow:auto;\">\n",
       "<table border=\"1\" class=\"dataframe\">\n",
       "  <thead>\n",
       "    <tr style=\"text-align: right;\">\n",
       "      <th></th>\n",
       "      <th>cds</th>\n",
       "      <th>year</th>\n",
       "      <th>api</th>\n",
       "      <th>valid</th>\n",
       "      <th>aa_num</th>\n",
       "      <th>pct_aa</th>\n",
       "      <th>aa_api</th>\n",
       "      <th>wh_num</th>\n",
       "      <th>pct_wh</th>\n",
       "      <th>wh_api</th>\n",
       "      <th>hi_num</th>\n",
       "      <th>pct_hi</th>\n",
       "      <th>hi_api</th>\n",
       "      <th>as_num</th>\n",
       "      <th>pct_as</th>\n",
       "      <th>as_api</th>\n",
       "      <th>el</th>\n",
       "    </tr>\n",
       "  </thead>\n",
       "  <tbody>\n",
       "    <tr>\n",
       "      <th>0</th>\n",
       "      <td> 1611190130229</td>\n",
       "      <td> 2000</td>\n",
       "      <td> 731</td>\n",
       "      <td> 1090</td>\n",
       "      <td>  39</td>\n",
       "      <td>  4</td>\n",
       "      <td> NaN</td>\n",
       "      <td> 414</td>\n",
       "      <td> 38</td>\n",
       "      <td> 760</td>\n",
       "      <td> 96</td>\n",
       "      <td>  9</td>\n",
       "      <td>NaN</td>\n",
       "      <td> 414</td>\n",
       "      <td> 38</td>\n",
       "      <td> 749</td>\n",
       "      <td> 16</td>\n",
       "    </tr>\n",
       "    <tr>\n",
       "      <th>1</th>\n",
       "      <td> 1611190132878</td>\n",
       "      <td> 2000</td>\n",
       "      <td> 622</td>\n",
       "      <td>  840</td>\n",
       "      <td> 160</td>\n",
       "      <td> 23</td>\n",
       "      <td> 528</td>\n",
       "      <td> 191</td>\n",
       "      <td> 23</td>\n",
       "      <td> 734</td>\n",
       "      <td> 92</td>\n",
       "      <td> 11</td>\n",
       "      <td>NaN</td>\n",
       "      <td> 195</td>\n",
       "      <td> 21</td>\n",
       "      <td> 642</td>\n",
       "      <td> 18</td>\n",
       "    </tr>\n",
       "    <tr>\n",
       "      <th>2</th>\n",
       "      <td> 1611196000004</td>\n",
       "      <td> 2000</td>\n",
       "      <td> 622</td>\n",
       "      <td>  472</td>\n",
       "      <td> 138</td>\n",
       "      <td> 31</td>\n",
       "      <td> 555</td>\n",
       "      <td>  90</td>\n",
       "      <td> 19</td>\n",
       "      <td> 714</td>\n",
       "      <td> 62</td>\n",
       "      <td> 13</td>\n",
       "      <td>NaN</td>\n",
       "      <td>  75</td>\n",
       "      <td> 15</td>\n",
       "      <td> 672</td>\n",
       "      <td> 25</td>\n",
       "    </tr>\n",
       "    <tr>\n",
       "      <th>3</th>\n",
       "      <td> 1611196090005</td>\n",
       "      <td> 2000</td>\n",
       "      <td> 774</td>\n",
       "      <td>  272</td>\n",
       "      <td>  16</td>\n",
       "      <td>  7</td>\n",
       "      <td> NaN</td>\n",
       "      <td>  61</td>\n",
       "      <td> 24</td>\n",
       "      <td> 781</td>\n",
       "      <td> 21</td>\n",
       "      <td>  7</td>\n",
       "      <td>NaN</td>\n",
       "      <td> 104</td>\n",
       "      <td> 38</td>\n",
       "      <td> 813</td>\n",
       "      <td> 26</td>\n",
       "    </tr>\n",
       "    <tr>\n",
       "      <th>4</th>\n",
       "      <td> 1611196090013</td>\n",
       "      <td> 2000</td>\n",
       "      <td> 811</td>\n",
       "      <td>  216</td>\n",
       "      <td>   6</td>\n",
       "      <td>  3</td>\n",
       "      <td> NaN</td>\n",
       "      <td> 128</td>\n",
       "      <td> 59</td>\n",
       "      <td> 851</td>\n",
       "      <td> 19</td>\n",
       "      <td>  9</td>\n",
       "      <td>NaN</td>\n",
       "      <td>  17</td>\n",
       "      <td>  7</td>\n",
       "      <td> NaN</td>\n",
       "      <td>  9</td>\n",
       "    </tr>\n",
       "  </tbody>\n",
       "</table>\n",
       "<p>5 rows × 17 columns</p>\n",
       "</div>"
      ],
      "text/plain": [
       "             cds  year  api  valid  aa_num  pct_aa  aa_api  wh_num  pct_wh  \\\n",
       "0  1611190130229  2000  731   1090      39       4     NaN     414      38   \n",
       "1  1611190132878  2000  622    840     160      23     528     191      23   \n",
       "2  1611196000004  2000  622    472     138      31     555      90      19   \n",
       "3  1611196090005  2000  774    272      16       7     NaN      61      24   \n",
       "4  1611196090013  2000  811    216       6       3     NaN     128      59   \n",
       "\n",
       "   wh_api  hi_num  pct_hi  hi_api  as_num  pct_as  as_api  el  \n",
       "0     760      96       9     NaN     414      38     749  16  \n",
       "1     734      92      11     NaN     195      21     642  18  \n",
       "2     714      62      13     NaN      75      15     672  25  \n",
       "3     781      21       7     NaN     104      38     813  26  \n",
       "4     851      19       9     NaN      17       7     NaN   9  \n",
       "\n",
       "[5 rows x 17 columns]"
      ]
     },
     "execution_count": 6,
     "metadata": {},
     "output_type": "execute_result"
    }
   ],
   "source": [
    "mldf = df.set_index(['cds','year'])\n",
    "pan = mldf.to_panel() # Convert to a time-series panel\n",
    "df.head()"
   ]
  },
  {
   "cell_type": "markdown",
   "metadata": {},
   "source": [
    "Using Pandas for data analysis is a bit beyond the scope of this introduction, and panels can be complicated. FOr this tutorial, is is most important to know that a panel works like a 3-dimentional structure, where two of the dimensions are CDS -- the school identification number -- and the year. The third is the data columns. Panels provide a convient way to analyze time series. \n",
    "\n",
    "In particular, with the object `pan`, we can extract a single column. For instance `pan['pct_wh']` extracts a 2-dimensional table of percentages of White test takers, with one entry for each school and each year. Then `pan['pct_wh'].mean()` will compute the mean value for each year across all of the schools. ( If we had set the indices the other way, with `df.set_index(['year','cds'])` then `mean()` would calculate the mean value for each school across the years. \n",
    "\n",
    "Finally, we will perform this calculation for the four largest racial categories and combine them into a single table. \n"
   ]
  },
  {
   "cell_type": "code",
   "execution_count": 7,
   "metadata": {},
   "outputs": [
    {
     "data": {
      "text/html": [
       "<div style=\"max-height:1000px;max-width:1500px;overflow:auto;\">\n",
       "<table border=\"1\" class=\"dataframe\">\n",
       "  <thead>\n",
       "    <tr style=\"text-align: right;\">\n",
       "      <th></th>\n",
       "      <th>pct_wh</th>\n",
       "      <th>pct_aa</th>\n",
       "      <th>pct_hi</th>\n",
       "      <th>pct_as</th>\n",
       "    </tr>\n",
       "    <tr>\n",
       "      <th>year</th>\n",
       "      <th></th>\n",
       "      <th></th>\n",
       "      <th></th>\n",
       "      <th></th>\n",
       "    </tr>\n",
       "  </thead>\n",
       "  <tbody>\n",
       "    <tr>\n",
       "      <th>2000</th>\n",
       "      <td> 41.583866</td>\n",
       "      <td> 8.068314</td>\n",
       "      <td> 37.180228</td>\n",
       "      <td> 7.684532</td>\n",
       "    </tr>\n",
       "    <tr>\n",
       "      <th>2001</th>\n",
       "      <td> 40.582148</td>\n",
       "      <td> 7.956793</td>\n",
       "      <td> 38.696600</td>\n",
       "      <td> 7.823513</td>\n",
       "    </tr>\n",
       "    <tr>\n",
       "      <th>2002</th>\n",
       "      <td> 39.264540</td>\n",
       "      <td> 7.874262</td>\n",
       "      <td> 39.876774</td>\n",
       "      <td> 7.470670</td>\n",
       "    </tr>\n",
       "    <tr>\n",
       "      <th>2003</th>\n",
       "      <td> 38.175535</td>\n",
       "      <td> 7.853156</td>\n",
       "      <td> 40.768910</td>\n",
       "      <td> 7.799948</td>\n",
       "    </tr>\n",
       "    <tr>\n",
       "      <th>2004</th>\n",
       "      <td> 36.548480</td>\n",
       "      <td> 8.058513</td>\n",
       "      <td> 42.218551</td>\n",
       "      <td> 7.542833</td>\n",
       "    </tr>\n",
       "    <tr>\n",
       "      <th>2005</th>\n",
       "      <td> 37.419843</td>\n",
       "      <td> 7.689846</td>\n",
       "      <td> 41.728833</td>\n",
       "      <td> 6.885074</td>\n",
       "    </tr>\n",
       "    <tr>\n",
       "      <th>2006</th>\n",
       "      <td> 36.110113</td>\n",
       "      <td> 7.740394</td>\n",
       "      <td> 43.053814</td>\n",
       "      <td> 6.883961</td>\n",
       "    </tr>\n",
       "    <tr>\n",
       "      <th>2007</th>\n",
       "      <td> 34.854257</td>\n",
       "      <td> 7.597130</td>\n",
       "      <td> 44.374363</td>\n",
       "      <td> 6.861903</td>\n",
       "    </tr>\n",
       "    <tr>\n",
       "      <th>2008</th>\n",
       "      <td> 34.124119</td>\n",
       "      <td> 7.575547</td>\n",
       "      <td> 44.982481</td>\n",
       "      <td> 6.921672</td>\n",
       "    </tr>\n",
       "    <tr>\n",
       "      <th>2009</th>\n",
       "      <td> 32.502490</td>\n",
       "      <td> 7.012359</td>\n",
       "      <td> 46.723022</td>\n",
       "      <td> 6.697657</td>\n",
       "    </tr>\n",
       "    <tr>\n",
       "      <th>2010</th>\n",
       "      <td> 31.377451</td>\n",
       "      <td> 6.844895</td>\n",
       "      <td> 47.487976</td>\n",
       "      <td> 6.658898</td>\n",
       "    </tr>\n",
       "    <tr>\n",
       "      <th>2011</th>\n",
       "      <td> 30.811612</td>\n",
       "      <td> 6.757984</td>\n",
       "      <td> 48.482093</td>\n",
       "      <td> 6.739062</td>\n",
       "    </tr>\n",
       "    <tr>\n",
       "      <th>2012</th>\n",
       "      <td> 30.071060</td>\n",
       "      <td> 6.527281</td>\n",
       "      <td> 49.373825</td>\n",
       "      <td> 6.849862</td>\n",
       "    </tr>\n",
       "  </tbody>\n",
       "</table>\n",
       "<p>13 rows × 4 columns</p>\n",
       "</div>"
      ],
      "text/plain": [
       "         pct_wh    pct_aa     pct_hi    pct_as\n",
       "year                                          \n",
       "2000  41.583866  8.068314  37.180228  7.684532\n",
       "2001  40.582148  7.956793  38.696600  7.823513\n",
       "2002  39.264540  7.874262  39.876774  7.470670\n",
       "2003  38.175535  7.853156  40.768910  7.799948\n",
       "2004  36.548480  8.058513  42.218551  7.542833\n",
       "2005  37.419843  7.689846  41.728833  6.885074\n",
       "2006  36.110113  7.740394  43.053814  6.883961\n",
       "2007  34.854257  7.597130  44.374363  6.861903\n",
       "2008  34.124119  7.575547  44.982481  6.921672\n",
       "2009  32.502490  7.012359  46.723022  6.697657\n",
       "2010  31.377451  6.844895  47.487976  6.658898\n",
       "2011  30.811612  6.757984  48.482093  6.739062\n",
       "2012  30.071060  6.527281  49.373825  6.849862\n",
       "\n",
       "[13 rows x 4 columns]"
      ]
     },
     "execution_count": 7,
     "metadata": {},
     "output_type": "execute_result"
    }
   ],
   "source": [
    "racial_pcts = pd.concat([pan['pct_wh'].mean(), pan['pct_aa'].mean(),pan['pct_hi'].mean(), pan['pct_as'].mean()], axis=1)\n",
    "racial_pcts.columns = ['pct_wh', 'pct_aa', 'pct_hi', 'pct_as']\n",
    "racial_pcts"
   ]
  },
  {
   "cell_type": "markdown",
   "metadata": {},
   "source": [
    "Now, for a plot of the numbers. \n"
   ]
  },
  {
   "cell_type": "markdown",
   "metadata": {},
   "source": [
    "# Creating Plots"
   ]
  },
  {
   "cell_type": "markdown",
   "metadata": {},
   "source": [
    "Now that we have a table of data, the next thing to do is plot it. \n"
   ]
  },
  {
   "cell_type": "code",
   "execution_count": 8,
   "metadata": {},
   "outputs": [
    {
     "ename": "NameError",
     "evalue": "name 'plot' is not defined",
     "output_type": "error",
     "traceback": [
      "\u001b[0;31m---------------------------------------------------------------------------\u001b[0m\n\u001b[0;31mNameError\u001b[0m                                 Traceback (most recent call last)",
      "\u001b[0;32m<ipython-input-8-8b9a10f1d5cb>\u001b[0m in \u001b[0;36m<module>\u001b[0;34m()\u001b[0m\n\u001b[0;32m----> 1\u001b[0;31m \u001b[0mplot\u001b[0m\u001b[0;34m(\u001b[0m\u001b[0mracial_pcts\u001b[0m\u001b[0;34m)\u001b[0m\u001b[0;34m\u001b[0m\u001b[0m\n\u001b[0m",
      "\u001b[0;31mNameError\u001b[0m: name 'plot' is not defined"
     ]
    }
   ],
   "source": [
    "plot(racial_pcts)"
   ]
  },
  {
   "cell_type": "markdown",
   "metadata": {},
   "source": [
    "That was really easy, but not pretty. Getting a proper legend takes a bit more work."
   ]
  },
  {
   "cell_type": "code",
   "execution_count": null,
   "metadata": {},
   "outputs": [],
   "source": [
    "fig = figure()\n",
    "ax = subplot(111)\n",
    "\n",
    "for col in list(racial_pcts.columns.values):\n",
    "    ax.plot(racial_pcts[col], label=col)\n",
    "    \n",
    "ax.legend(loc='best', bbox_to_anchor=(1, 0.5))\n",
    "\n",
    "show()\n"
   ]
  },
  {
   "cell_type": "markdown",
   "metadata": {},
   "source": [
    "Now we can do the same analysis with the racial decomposition of the API scores. "
   ]
  },
  {
   "cell_type": "code",
   "execution_count": null,
   "metadata": {},
   "outputs": [],
   "source": [
    "racial_api = pd.concat([pan['wh_api'].mean(), pan['aa_api'].mean(),pan['hi_api'].mean(), pan['as_api'].mean(),  pan['api'].mean()], axis=1)\n",
    "racial_api.columns = ['wh_api', 'aa_api', 'hi_api', 'as_api', 'api']\n",
    "racial_api"
   ]
  },
  {
   "cell_type": "code",
   "execution_count": null,
   "metadata": {},
   "outputs": [],
   "source": [
    "fig = figure()\n",
    "ax = subplot(111)\n",
    "\n",
    "for col in list(racial_api.columns.values):\n",
    "    ax.plot(racial_api[col], label=col)\n",
    "    \n",
    "ax.legend(loc='best', bbox_to_anchor=(1, 0.5))\n",
    "\n",
    "show()"
   ]
  },
  {
   "cell_type": "markdown",
   "metadata": {},
   "source": [
    "## More Complex Analysis"
   ]
  },
  {
   "cell_type": "markdown",
   "metadata": {},
   "source": []
  },
  {
   "cell_type": "code",
   "execution_count": null,
   "metadata": {},
   "outputs": [],
   "source": [
    "# We need to run the query again to add the significance criteria. \n",
    "q = \"\"\"\n",
    "SELECT \n",
    "cds, year, api, valid, \n",
    "aa_num, pct_aa,  aa_api, \n",
    "wh_num,  pct_wh, wh_api,\n",
    "hi_num,  pct_hi, hi_api,\n",
    "as_num,  pct_as, as_api,\n",
    "el\n",
    "FROM api_base \n",
    "WHERE wh_sig = 'Yes' AND aa_sig = 'Yes'\n",
    "\"\"\"\n",
    "\n",
    "df = p.select(q).pandas\n",
    "df.head()\n",
    "\n",
    "x = df.wh_api\n",
    "y = df.aa_api\n",
    "fit = polyfit(x,y,1)\n",
    "fit_fn = poly1d(fit) # fit_fn is now a function which takes in x and returns an estimate for y\n",
    "\n",
    "plot(x,y, 'b,', x, fit_fn(x), '--k', x,x, '--r')"
   ]
  },
  {
   "cell_type": "code",
   "execution_count": null,
   "metadata": {},
   "outputs": [],
   "source": [
    "aa_better = df[df.aa_api > df.wh_api]\n",
    "aa_better.count()"
   ]
  }
 ],
 "metadata": {
  "kernelspec": {
   "display_name": "Python 3",
   "language": "python",
   "name": "python3"
  },
  "language_info": {
   "codemirror_mode": {
    "name": "ipython",
    "version": 3
   },
   "file_extension": ".py",
   "mimetype": "text/x-python",
   "name": "python",
   "nbconvert_exporter": "python",
   "pygments_lexer": "ipython3",
   "version": "3.6.1"
  },
  "varInspector": {
   "cols": {
    "lenName": 16,
    "lenType": 16,
    "lenVar": 40
   },
   "kernels_config": {
    "python": {
     "delete_cmd_postfix": "",
     "delete_cmd_prefix": "del ",
     "library": "var_list.py",
     "varRefreshCmd": "print(var_dic_list())"
    },
    "r": {
     "delete_cmd_postfix": ") ",
     "delete_cmd_prefix": "rm(",
     "library": "var_list.r",
     "varRefreshCmd": "cat(var_dic_list()) "
    }
   },
   "types_to_exclude": [
    "module",
    "function",
    "builtin_function_or_method",
    "instance",
    "_Feature"
   ],
   "window_display": false
  }
 },
 "nbformat": 4,
 "nbformat_minor": 1
}
