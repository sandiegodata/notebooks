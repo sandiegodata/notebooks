{
 "metadata": {
  "name": "",
  "signature": "sha256:e81dff0f850deb9cd461ba3feab3a613fc12a753bb34c0bb98979dd70a6ad496"
 },
 "nbformat": 3,
 "nbformat_minor": 0,
 "worksheets": []
}