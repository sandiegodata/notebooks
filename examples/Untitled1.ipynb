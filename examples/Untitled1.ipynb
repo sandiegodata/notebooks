{
 "metadata": {
  "name": "",
  "signature": "sha256:0199663eaa5415882abc33396359d6cfd258524818aba43469fb5e6ed3890638"
 },
 "nbformat": 3,
 "nbformat_minor": 0,
 "worksheets": [
  {
   "cells": [
    {
     "cell_type": "code",
     "collapsed": false,
     "input": [
      "%matplotlib inline\n",
      "import numpy as np\n",
      "import pandas as pd\n",
      "import matplotlib.pyplot as plt\n",
      "import ambry\n",
      "\n",
      "l  =  ambry.ilibrary()"
     ],
     "language": "python",
     "metadata": {},
     "outputs": [],
     "prompt_number": 3
    },
    {
     "cell_type": "code",
     "collapsed": false,
     "input": [
      "l.find(name='star')"
     ],
     "language": "python",
     "metadata": {},
     "outputs": [
      {
       "html": [
        "<table><tr><td>SLR</td><td>d02k001</td><td>cde.ca.gov-star-orig-0.1.1</td></tr></table>"
       ],
       "metadata": {},
       "output_type": "pyout",
       "prompt_number": 4,
       "text": [
        "<ambry.identity.IdentitySet at 0x10668e3d0>"
       ]
      }
     ],
     "prompt_number": 4
    },
    {
     "cell_type": "code",
     "collapsed": false,
     "input": [
      "b = l.get('cde.ca.gov-star-orig-0.1.1')"
     ],
     "language": "python",
     "metadata": {},
     "outputs": [],
     "prompt_number": 5
    },
    {
     "cell_type": "code",
     "collapsed": false,
     "input": [
      "b.partitions"
     ],
     "language": "python",
     "metadata": {},
     "outputs": [
      {
       "html": [
        "<table>\n",
        "<tr><th>Id</th><th>Name</th><th>table</th><th>time</th></tr>\n",
        "<tr><td>p02k001</td><td>cde.ca.gov-star-orig-star-2011</td><td>star</td><td>2011</td></tr>\n",
        "<tr><td>p02k002</td><td>cde.ca.gov-star-orig-star-2008</td><td>star</td><td>2008</td></tr>\n",
        "<tr><td>p02k003</td><td>cde.ca.gov-star-orig-star-2006</td><td>star</td><td>2006</td></tr>\n",
        "<tr><td>p02k004</td><td>cde.ca.gov-star-orig-star-2007</td><td>star</td><td>2007</td></tr>\n",
        "<tr><td>p02k005</td><td>cde.ca.gov-star-orig-star-2012</td><td>star</td><td>2012</td></tr>\n",
        "<tr><td>p02k006</td><td>cde.ca.gov-star-orig-star-2010</td><td>star</td><td>2010</td></tr>\n",
        "<tr><td>p02k007</td><td>cde.ca.gov-star-orig-star-2009</td><td>star</td><td>2009</td></tr>\n",
        "<tr><td>p02k008</td><td>cde.ca.gov-star-orig-star-2004</td><td>star</td><td>2004</td></tr>\n",
        "<tr><td>p02k009</td><td>cde.ca.gov-star-orig-star-2005</td><td>star</td><td>2005</td></tr>\n",
        "</table>"
       ],
       "metadata": {},
       "output_type": "pyout",
       "prompt_number": 7,
       "text": [
        "<ambry.partitions.Partitions at 0x10713e750>"
       ]
      }
     ],
     "prompt_number": 7
    },
    {
     "cell_type": "code",
     "collapsed": false,
     "input": [
      "incidents = l.get('clarinova.com-crime-incidents-casnd-linked-crimes').partition\n",
      "placestats = l.get('clarinova.com-places-casnd-areastats').partition\n",
      "attach_name = incidents.attach(placestats, 'placestats')"
     ],
     "language": "python",
     "metadata": {},
     "outputs": []
    }
   ],
   "metadata": {}
  }
 ]
}